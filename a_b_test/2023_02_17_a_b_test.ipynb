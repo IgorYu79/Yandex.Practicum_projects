{
 "cells": [
  {
   "cell_type": "markdown",
   "metadata": {},
   "source": [
    "# Проект по оценке путей увеличения выручки крупного интернет-магазина.  \n",
    "Задачи исследования:\n",
    "- приоретизация гипотез, составленных совместно с отделом маркетинга\n",
    "- оценка результатов А/В-теста: оценить динамику среднего чека и выручки по группам, посчитать статистическую значимость раличий по группам на \"сырых\" данных и на данных, очищенных от аномальных пользователей.\n",
    "- принять решение об остановке или продолжении теста, зафиксировать победу одной из групп или отсутствие различий между ними."
   ]
  },
  {
   "cell_type": "markdown",
   "metadata": {},
   "source": [
    "## Оглавление\n",
    "- [Приоретизация гипотез](#priority)\n",
    "- [Подготовка даннных](#preparing)\n",
    "- [Кумулятивная выручка по группам](#revenue)\n",
    "- [Средний чек по группам](#check)\n",
    "- [Относительное изменение кумулятивного среднего чека группы B к группе A](#graph1)\n",
    "- [Кумулятивное среднее количество заказов на посетителя по группам](#graph2)\n",
    "- [Относительное изменение кумулятивного среднего количества заказов В к А](#graph3)\n",
    "- [Число заказов пользователей](#orders_cnt)\n",
    "- [Стоимость заказов пользователей](#orders_total)\n",
    "- [Расчет 95-й и 99-й перцентиля стоимости заказов.](#orders_cost)\n",
    "- [Расчеты статистической значимости различий по \"сырым\" данным](#cnt_raw)\n",
    "- [Расчеты статистической значимости различий по очищенным данным](#cnt_clean)\n",
    "- [Выводы](#conclusion)"
   ]
  },
  {
   "cell_type": "code",
   "execution_count": 1,
   "metadata": {},
   "outputs": [],
   "source": [
    "# Импорт необходимых библиотек\n",
    "import pandas as pd\n",
    "import scipy.stats as stats\n",
    "import datetime as dt\n",
    "import numpy as np\n",
    "import matplotlib.pyplot as plt"
   ]
  },
  {
   "cell_type": "markdown",
   "metadata": {},
   "source": [
    "<a id='priority'></a>\n",
    "## Приоретизация гипотез"
   ]
  },
  {
   "cell_type": "code",
   "execution_count": 2,
   "metadata": {
    "scrolled": false
   },
   "outputs": [
    {
     "data": {
      "text/html": [
       "<div>\n",
       "<style scoped>\n",
       "    .dataframe tbody tr th:only-of-type {\n",
       "        vertical-align: middle;\n",
       "    }\n",
       "\n",
       "    .dataframe tbody tr th {\n",
       "        vertical-align: top;\n",
       "    }\n",
       "\n",
       "    .dataframe thead th {\n",
       "        text-align: right;\n",
       "    }\n",
       "</style>\n",
       "<table border=\"1\" class=\"dataframe\">\n",
       "  <thead>\n",
       "    <tr style=\"text-align: right;\">\n",
       "      <th></th>\n",
       "      <th>Hypothesis</th>\n",
       "      <th>Reach</th>\n",
       "      <th>Impact</th>\n",
       "      <th>Confidence</th>\n",
       "      <th>Efforts</th>\n",
       "    </tr>\n",
       "  </thead>\n",
       "  <tbody>\n",
       "    <tr>\n",
       "      <th>0</th>\n",
       "      <td>Добавить два новых канала привлечения трафика,...</td>\n",
       "      <td>3</td>\n",
       "      <td>10</td>\n",
       "      <td>8</td>\n",
       "      <td>6</td>\n",
       "    </tr>\n",
       "    <tr>\n",
       "      <th>1</th>\n",
       "      <td>Запустить собственную службу доставки, что сок...</td>\n",
       "      <td>2</td>\n",
       "      <td>5</td>\n",
       "      <td>4</td>\n",
       "      <td>10</td>\n",
       "    </tr>\n",
       "    <tr>\n",
       "      <th>2</th>\n",
       "      <td>Добавить блоки рекомендаций товаров на сайт ин...</td>\n",
       "      <td>8</td>\n",
       "      <td>3</td>\n",
       "      <td>7</td>\n",
       "      <td>3</td>\n",
       "    </tr>\n",
       "    <tr>\n",
       "      <th>3</th>\n",
       "      <td>Изменить структура категорий, что увеличит кон...</td>\n",
       "      <td>8</td>\n",
       "      <td>3</td>\n",
       "      <td>3</td>\n",
       "      <td>8</td>\n",
       "    </tr>\n",
       "    <tr>\n",
       "      <th>4</th>\n",
       "      <td>Изменить цвет фона главной страницы, чтобы уве...</td>\n",
       "      <td>3</td>\n",
       "      <td>1</td>\n",
       "      <td>1</td>\n",
       "      <td>1</td>\n",
       "    </tr>\n",
       "    <tr>\n",
       "      <th>5</th>\n",
       "      <td>Добавить страницу отзывов клиентов о магазине,...</td>\n",
       "      <td>3</td>\n",
       "      <td>2</td>\n",
       "      <td>2</td>\n",
       "      <td>3</td>\n",
       "    </tr>\n",
       "    <tr>\n",
       "      <th>6</th>\n",
       "      <td>Показать на главной странице баннеры с актуаль...</td>\n",
       "      <td>5</td>\n",
       "      <td>3</td>\n",
       "      <td>8</td>\n",
       "      <td>3</td>\n",
       "    </tr>\n",
       "    <tr>\n",
       "      <th>7</th>\n",
       "      <td>Добавить форму подписки на все основные страни...</td>\n",
       "      <td>10</td>\n",
       "      <td>7</td>\n",
       "      <td>8</td>\n",
       "      <td>5</td>\n",
       "    </tr>\n",
       "    <tr>\n",
       "      <th>8</th>\n",
       "      <td>Запустить акцию, дающую скидку на товар в день...</td>\n",
       "      <td>1</td>\n",
       "      <td>9</td>\n",
       "      <td>9</td>\n",
       "      <td>5</td>\n",
       "    </tr>\n",
       "  </tbody>\n",
       "</table>\n",
       "</div>"
      ],
      "text/plain": [
       "                                          Hypothesis  Reach  Impact  \\\n",
       "0  Добавить два новых канала привлечения трафика,...      3      10   \n",
       "1  Запустить собственную службу доставки, что сок...      2       5   \n",
       "2  Добавить блоки рекомендаций товаров на сайт ин...      8       3   \n",
       "3  Изменить структура категорий, что увеличит кон...      8       3   \n",
       "4  Изменить цвет фона главной страницы, чтобы уве...      3       1   \n",
       "5  Добавить страницу отзывов клиентов о магазине,...      3       2   \n",
       "6  Показать на главной странице баннеры с актуаль...      5       3   \n",
       "7  Добавить форму подписки на все основные страни...     10       7   \n",
       "8  Запустить акцию, дающую скидку на товар в день...      1       9   \n",
       "\n",
       "   Confidence  Efforts  \n",
       "0           8        6  \n",
       "1           4       10  \n",
       "2           7        3  \n",
       "3           3        8  \n",
       "4           1        1  \n",
       "5           2        3  \n",
       "6           8        3  \n",
       "7           8        5  \n",
       "8           9        5  "
      ]
     },
     "execution_count": 2,
     "metadata": {},
     "output_type": "execute_result"
    }
   ],
   "source": [
    "# Загрузка данных по гипотезам\n",
    "hypothesis = pd.read_csv('c:/projects/datasets/hypothesis.csv')\n",
    "hypothesis"
   ]
  },
  {
   "cell_type": "code",
   "execution_count": 3,
   "metadata": {
    "scrolled": true
   },
   "outputs": [
    {
     "data": {
      "text/html": [
       "<div>\n",
       "<style scoped>\n",
       "    .dataframe tbody tr th:only-of-type {\n",
       "        vertical-align: middle;\n",
       "    }\n",
       "\n",
       "    .dataframe tbody tr th {\n",
       "        vertical-align: top;\n",
       "    }\n",
       "\n",
       "    .dataframe thead th {\n",
       "        text-align: right;\n",
       "    }\n",
       "</style>\n",
       "<table border=\"1\" class=\"dataframe\">\n",
       "  <thead>\n",
       "    <tr style=\"text-align: right;\">\n",
       "      <th></th>\n",
       "      <th>hypothesis</th>\n",
       "      <th>reach</th>\n",
       "      <th>impact</th>\n",
       "      <th>confidence</th>\n",
       "      <th>efforts</th>\n",
       "    </tr>\n",
       "  </thead>\n",
       "  <tbody>\n",
       "    <tr>\n",
       "      <th>0</th>\n",
       "      <td>Добавить два новых канала привлечения трафика, что позволит привлекать на 30% больше пользователей</td>\n",
       "      <td>3</td>\n",
       "      <td>10</td>\n",
       "      <td>8</td>\n",
       "      <td>6</td>\n",
       "    </tr>\n",
       "    <tr>\n",
       "      <th>1</th>\n",
       "      <td>Запустить собственную службу доставки, что сократит срок доставки заказов</td>\n",
       "      <td>2</td>\n",
       "      <td>5</td>\n",
       "      <td>4</td>\n",
       "      <td>10</td>\n",
       "    </tr>\n",
       "    <tr>\n",
       "      <th>2</th>\n",
       "      <td>Добавить блоки рекомендаций товаров на сайт интернет магазина, чтобы повысить конверсию и средний чек заказа</td>\n",
       "      <td>8</td>\n",
       "      <td>3</td>\n",
       "      <td>7</td>\n",
       "      <td>3</td>\n",
       "    </tr>\n",
       "    <tr>\n",
       "      <th>3</th>\n",
       "      <td>Изменить структура категорий, что увеличит конверсию, т.к. пользователи быстрее найдут нужный товар</td>\n",
       "      <td>8</td>\n",
       "      <td>3</td>\n",
       "      <td>3</td>\n",
       "      <td>8</td>\n",
       "    </tr>\n",
       "    <tr>\n",
       "      <th>4</th>\n",
       "      <td>Изменить цвет фона главной страницы, чтобы увеличить вовлеченность пользователей</td>\n",
       "      <td>3</td>\n",
       "      <td>1</td>\n",
       "      <td>1</td>\n",
       "      <td>1</td>\n",
       "    </tr>\n",
       "    <tr>\n",
       "      <th>5</th>\n",
       "      <td>Добавить страницу отзывов клиентов о магазине, что позволит увеличить количество заказов</td>\n",
       "      <td>3</td>\n",
       "      <td>2</td>\n",
       "      <td>2</td>\n",
       "      <td>3</td>\n",
       "    </tr>\n",
       "    <tr>\n",
       "      <th>6</th>\n",
       "      <td>Показать на главной странице баннеры с актуальными акциями и распродажами, чтобы увеличить конверсию</td>\n",
       "      <td>5</td>\n",
       "      <td>3</td>\n",
       "      <td>8</td>\n",
       "      <td>3</td>\n",
       "    </tr>\n",
       "    <tr>\n",
       "      <th>7</th>\n",
       "      <td>Добавить форму подписки на все основные страницы, чтобы собрать базу клиентов для email-рассылок</td>\n",
       "      <td>10</td>\n",
       "      <td>7</td>\n",
       "      <td>8</td>\n",
       "      <td>5</td>\n",
       "    </tr>\n",
       "    <tr>\n",
       "      <th>8</th>\n",
       "      <td>Запустить акцию, дающую скидку на товар в день рождения</td>\n",
       "      <td>1</td>\n",
       "      <td>9</td>\n",
       "      <td>9</td>\n",
       "      <td>5</td>\n",
       "    </tr>\n",
       "  </tbody>\n",
       "</table>\n",
       "</div>"
      ],
      "text/plain": [
       "                                                                                                     hypothesis  \\\n",
       "0            Добавить два новых канала привлечения трафика, что позволит привлекать на 30% больше пользователей   \n",
       "1                                     Запустить собственную службу доставки, что сократит срок доставки заказов   \n",
       "2  Добавить блоки рекомендаций товаров на сайт интернет магазина, чтобы повысить конверсию и средний чек заказа   \n",
       "3           Изменить структура категорий, что увеличит конверсию, т.к. пользователи быстрее найдут нужный товар   \n",
       "4                              Изменить цвет фона главной страницы, чтобы увеличить вовлеченность пользователей   \n",
       "5                      Добавить страницу отзывов клиентов о магазине, что позволит увеличить количество заказов   \n",
       "6          Показать на главной странице баннеры с актуальными акциями и распродажами, чтобы увеличить конверсию   \n",
       "7              Добавить форму подписки на все основные страницы, чтобы собрать базу клиентов для email-рассылок   \n",
       "8                                                       Запустить акцию, дающую скидку на товар в день рождения   \n",
       "\n",
       "   reach  impact  confidence  efforts  \n",
       "0      3      10           8        6  \n",
       "1      2       5           4       10  \n",
       "2      8       3           7        3  \n",
       "3      8       3           3        8  \n",
       "4      3       1           1        1  \n",
       "5      3       2           2        3  \n",
       "6      5       3           8        3  \n",
       "7     10       7           8        5  \n",
       "8      1       9           9        5  "
      ]
     },
     "execution_count": 3,
     "metadata": {},
     "output_type": "execute_result"
    }
   ],
   "source": [
    "# Убираем заглавные буквы в заголовках таблицы\n",
    "pd.options.display.max_colwidth = 150\n",
    "hypothesis.columns = hypothesis.columns.str.lower()\n",
    "hypothesis"
   ]
  },
  {
   "cell_type": "code",
   "execution_count": 4,
   "metadata": {},
   "outputs": [
    {
     "data": {
      "text/html": [
       "<div>\n",
       "<style scoped>\n",
       "    .dataframe tbody tr th:only-of-type {\n",
       "        vertical-align: middle;\n",
       "    }\n",
       "\n",
       "    .dataframe tbody tr th {\n",
       "        vertical-align: top;\n",
       "    }\n",
       "\n",
       "    .dataframe thead th {\n",
       "        text-align: right;\n",
       "    }\n",
       "</style>\n",
       "<table border=\"1\" class=\"dataframe\">\n",
       "  <thead>\n",
       "    <tr style=\"text-align: right;\">\n",
       "      <th></th>\n",
       "      <th>hypothesis</th>\n",
       "      <th>ice</th>\n",
       "    </tr>\n",
       "  </thead>\n",
       "  <tbody>\n",
       "    <tr>\n",
       "      <th>8</th>\n",
       "      <td>Запустить акцию, дающую скидку на товар в день рождения</td>\n",
       "      <td>16.20</td>\n",
       "    </tr>\n",
       "    <tr>\n",
       "      <th>0</th>\n",
       "      <td>Добавить два новых канала привлечения трафика, что позволит привлекать на 30% больше пользователей</td>\n",
       "      <td>13.33</td>\n",
       "    </tr>\n",
       "    <tr>\n",
       "      <th>7</th>\n",
       "      <td>Добавить форму подписки на все основные страницы, чтобы собрать базу клиентов для email-рассылок</td>\n",
       "      <td>11.20</td>\n",
       "    </tr>\n",
       "    <tr>\n",
       "      <th>6</th>\n",
       "      <td>Показать на главной странице баннеры с актуальными акциями и распродажами, чтобы увеличить конверсию</td>\n",
       "      <td>8.00</td>\n",
       "    </tr>\n",
       "    <tr>\n",
       "      <th>2</th>\n",
       "      <td>Добавить блоки рекомендаций товаров на сайт интернет магазина, чтобы повысить конверсию и средний чек заказа</td>\n",
       "      <td>7.00</td>\n",
       "    </tr>\n",
       "    <tr>\n",
       "      <th>1</th>\n",
       "      <td>Запустить собственную службу доставки, что сократит срок доставки заказов</td>\n",
       "      <td>2.00</td>\n",
       "    </tr>\n",
       "    <tr>\n",
       "      <th>5</th>\n",
       "      <td>Добавить страницу отзывов клиентов о магазине, что позволит увеличить количество заказов</td>\n",
       "      <td>1.33</td>\n",
       "    </tr>\n",
       "    <tr>\n",
       "      <th>3</th>\n",
       "      <td>Изменить структура категорий, что увеличит конверсию, т.к. пользователи быстрее найдут нужный товар</td>\n",
       "      <td>1.12</td>\n",
       "    </tr>\n",
       "    <tr>\n",
       "      <th>4</th>\n",
       "      <td>Изменить цвет фона главной страницы, чтобы увеличить вовлеченность пользователей</td>\n",
       "      <td>1.00</td>\n",
       "    </tr>\n",
       "  </tbody>\n",
       "</table>\n",
       "</div>"
      ],
      "text/plain": [
       "                                                                                                     hypothesis  \\\n",
       "8                                                       Запустить акцию, дающую скидку на товар в день рождения   \n",
       "0            Добавить два новых канала привлечения трафика, что позволит привлекать на 30% больше пользователей   \n",
       "7              Добавить форму подписки на все основные страницы, чтобы собрать базу клиентов для email-рассылок   \n",
       "6          Показать на главной странице баннеры с актуальными акциями и распродажами, чтобы увеличить конверсию   \n",
       "2  Добавить блоки рекомендаций товаров на сайт интернет магазина, чтобы повысить конверсию и средний чек заказа   \n",
       "1                                     Запустить собственную службу доставки, что сократит срок доставки заказов   \n",
       "5                      Добавить страницу отзывов клиентов о магазине, что позволит увеличить количество заказов   \n",
       "3           Изменить структура категорий, что увеличит конверсию, т.к. пользователи быстрее найдут нужный товар   \n",
       "4                              Изменить цвет фона главной страницы, чтобы увеличить вовлеченность пользователей   \n",
       "\n",
       "     ice  \n",
       "8  16.20  \n",
       "0  13.33  \n",
       "7  11.20  \n",
       "6   8.00  \n",
       "2   7.00  \n",
       "1   2.00  \n",
       "5   1.33  \n",
       "3   1.12  \n",
       "4   1.00  "
      ]
     },
     "metadata": {},
     "output_type": "display_data"
    }
   ],
   "source": [
    "# Расчет ICE для приоритизации гипотез\n",
    "ice = hypothesis\n",
    "ice['ice'] = round(ice['impact'] * ice['confidence'] / ice['efforts'], 2)\n",
    "display(ice[['hypothesis', 'ice']].sort_values(by='ice', ascending=False))"
   ]
  },
  {
   "cell_type": "code",
   "execution_count": 5,
   "metadata": {},
   "outputs": [
    {
     "data": {
      "text/html": [
       "<div>\n",
       "<style scoped>\n",
       "    .dataframe tbody tr th:only-of-type {\n",
       "        vertical-align: middle;\n",
       "    }\n",
       "\n",
       "    .dataframe tbody tr th {\n",
       "        vertical-align: top;\n",
       "    }\n",
       "\n",
       "    .dataframe thead th {\n",
       "        text-align: right;\n",
       "    }\n",
       "</style>\n",
       "<table border=\"1\" class=\"dataframe\">\n",
       "  <thead>\n",
       "    <tr style=\"text-align: right;\">\n",
       "      <th></th>\n",
       "      <th>hypothesis</th>\n",
       "      <th>rice</th>\n",
       "    </tr>\n",
       "  </thead>\n",
       "  <tbody>\n",
       "    <tr>\n",
       "      <th>7</th>\n",
       "      <td>Добавить форму подписки на все основные страницы, чтобы собрать базу клиентов для email-рассылок</td>\n",
       "      <td>112.0</td>\n",
       "    </tr>\n",
       "    <tr>\n",
       "      <th>2</th>\n",
       "      <td>Добавить блоки рекомендаций товаров на сайт интернет магазина, чтобы повысить конверсию и средний чек заказа</td>\n",
       "      <td>56.0</td>\n",
       "    </tr>\n",
       "    <tr>\n",
       "      <th>0</th>\n",
       "      <td>Добавить два новых канала привлечения трафика, что позволит привлекать на 30% больше пользователей</td>\n",
       "      <td>40.0</td>\n",
       "    </tr>\n",
       "    <tr>\n",
       "      <th>6</th>\n",
       "      <td>Показать на главной странице баннеры с актуальными акциями и распродажами, чтобы увеличить конверсию</td>\n",
       "      <td>40.0</td>\n",
       "    </tr>\n",
       "    <tr>\n",
       "      <th>8</th>\n",
       "      <td>Запустить акцию, дающую скидку на товар в день рождения</td>\n",
       "      <td>16.2</td>\n",
       "    </tr>\n",
       "    <tr>\n",
       "      <th>3</th>\n",
       "      <td>Изменить структура категорий, что увеличит конверсию, т.к. пользователи быстрее найдут нужный товар</td>\n",
       "      <td>9.0</td>\n",
       "    </tr>\n",
       "    <tr>\n",
       "      <th>1</th>\n",
       "      <td>Запустить собственную службу доставки, что сократит срок доставки заказов</td>\n",
       "      <td>4.0</td>\n",
       "    </tr>\n",
       "    <tr>\n",
       "      <th>5</th>\n",
       "      <td>Добавить страницу отзывов клиентов о магазине, что позволит увеличить количество заказов</td>\n",
       "      <td>4.0</td>\n",
       "    </tr>\n",
       "    <tr>\n",
       "      <th>4</th>\n",
       "      <td>Изменить цвет фона главной страницы, чтобы увеличить вовлеченность пользователей</td>\n",
       "      <td>3.0</td>\n",
       "    </tr>\n",
       "  </tbody>\n",
       "</table>\n",
       "</div>"
      ],
      "text/plain": [
       "                                                                                                     hypothesis  \\\n",
       "7              Добавить форму подписки на все основные страницы, чтобы собрать базу клиентов для email-рассылок   \n",
       "2  Добавить блоки рекомендаций товаров на сайт интернет магазина, чтобы повысить конверсию и средний чек заказа   \n",
       "0            Добавить два новых канала привлечения трафика, что позволит привлекать на 30% больше пользователей   \n",
       "6          Показать на главной странице баннеры с актуальными акциями и распродажами, чтобы увеличить конверсию   \n",
       "8                                                       Запустить акцию, дающую скидку на товар в день рождения   \n",
       "3           Изменить структура категорий, что увеличит конверсию, т.к. пользователи быстрее найдут нужный товар   \n",
       "1                                     Запустить собственную службу доставки, что сократит срок доставки заказов   \n",
       "5                      Добавить страницу отзывов клиентов о магазине, что позволит увеличить количество заказов   \n",
       "4                              Изменить цвет фона главной страницы, чтобы увеличить вовлеченность пользователей   \n",
       "\n",
       "    rice  \n",
       "7  112.0  \n",
       "2   56.0  \n",
       "0   40.0  \n",
       "6   40.0  \n",
       "8   16.2  \n",
       "3    9.0  \n",
       "1    4.0  \n",
       "5    4.0  \n",
       "4    3.0  "
      ]
     },
     "metadata": {},
     "output_type": "display_data"
    }
   ],
   "source": [
    "# Расчет RICE для приоритизации гипотез\n",
    "rice = hypothesis\n",
    "rice['rice'] = round(rice['reach'] * rice['impact'] * rice['confidence'] / rice['efforts'], 2)\n",
    "display(rice[['hypothesis', 'rice']].sort_values(by='rice', ascending=False))"
   ]
  },
  {
   "cell_type": "markdown",
   "metadata": {},
   "source": [
    "**Выводы по приоритезации гипотез**  \n",
    "ТОП 5 гипотез: 8, 0, 7, 6, 2.  \n",
    "Основное отличие фреймворков RICE и ICE в том, что метод RICE скоринга предполагает ещё и оценку охвата, т.е. предполагаемой целевой аудитории проекта.  \n",
    "При переходе от оценки ICE на оценку RICE на первое и второе место попали гипотезы №7 (Добавить форму подписки на все основные страницы) и № 2 (Добавить блоки рекомендаций товаров на сайт...) из-за высокого значения параметра охвата (reach), 10 и 8 соответственно. Гипотеза №0 о добавлении двух новых каналов привлечения трафика осталась в тройке лидеров не смотря на сравнительно небольшое значение параметра охвата (3) благодаря высоким значениям влияния (10) и уверенности в оценке (8).\n"
   ]
  },
  {
   "cell_type": "markdown",
   "metadata": {},
   "source": [
    "## Анализ A/B-теста"
   ]
  },
  {
   "cell_type": "markdown",
   "metadata": {},
   "source": [
    "<a id='preparing'></a>\n",
    "### Подготовка данных"
   ]
  },
  {
   "cell_type": "code",
   "execution_count": 6,
   "metadata": {},
   "outputs": [
    {
     "name": "stdout",
     "output_type": "stream",
     "text": [
      "<class 'pandas.core.frame.DataFrame'>\n",
      "RangeIndex: 1197 entries, 0 to 1196\n",
      "Data columns (total 5 columns):\n",
      " #   Column         Non-Null Count  Dtype \n",
      "---  ------         --------------  ----- \n",
      " 0   transactionId  1197 non-null   int64 \n",
      " 1   visitorId      1197 non-null   int64 \n",
      " 2   date           1197 non-null   object\n",
      " 3   revenue        1197 non-null   int64 \n",
      " 4   group          1197 non-null   object\n",
      "dtypes: int64(3), object(2)\n",
      "memory usage: 46.9+ KB\n"
     ]
    }
   ],
   "source": [
    "# Загрузка файла с заказами\n",
    "orders = pd.read_csv('c:/projects/datasets/orders.csv')\n",
    "orders.info()"
   ]
  },
  {
   "cell_type": "code",
   "execution_count": 7,
   "metadata": {},
   "outputs": [
    {
     "name": "stdout",
     "output_type": "stream",
     "text": [
      "<class 'pandas.core.frame.DataFrame'>\n",
      "RangeIndex: 1197 entries, 0 to 1196\n",
      "Data columns (total 5 columns):\n",
      " #   Column         Non-Null Count  Dtype         \n",
      "---  ------         --------------  -----         \n",
      " 0   transactionid  1197 non-null   int64         \n",
      " 1   visitorid      1197 non-null   int64         \n",
      " 2   date           1197 non-null   datetime64[ns]\n",
      " 3   revenue        1197 non-null   int64         \n",
      " 4   group          1197 non-null   object        \n",
      "dtypes: datetime64[ns](1), int64(3), object(1)\n",
      "memory usage: 46.9+ KB\n"
     ]
    }
   ],
   "source": [
    "# Убираем заглавные буквы в названиях столбцов, преобразовываем столбец с датами в тип данных дата\n",
    "orders.columns = orders.columns.str.lower()\n",
    "orders['date'] = orders['date'].map(lambda x: dt.datetime.strptime(x, '%Y-%m-%d'))\n",
    "orders.info()"
   ]
  },
  {
   "cell_type": "code",
   "execution_count": 8,
   "metadata": {
    "scrolled": true
   },
   "outputs": [
    {
     "name": "stdout",
     "output_type": "stream",
     "text": [
      "transactionid    0\n",
      "visitorid        0\n",
      "date             0\n",
      "revenue          0\n",
      "group            0\n",
      "dtype: int64\n"
     ]
    }
   ],
   "source": [
    "# Проверка на пропуски orders\n",
    "print(orders.isna().sum())"
   ]
  },
  {
   "cell_type": "code",
   "execution_count": 9,
   "metadata": {},
   "outputs": [
    {
     "name": "stdout",
     "output_type": "stream",
     "text": [
      "0\n"
     ]
    }
   ],
   "source": [
    "# Проверка на дубликаты orders\n",
    "print(orders.duplicated().sum())"
   ]
  },
  {
   "cell_type": "code",
   "execution_count": 10,
   "metadata": {},
   "outputs": [
    {
     "data": {
      "text/html": [
       "<div>\n",
       "<style scoped>\n",
       "    .dataframe tbody tr th:only-of-type {\n",
       "        vertical-align: middle;\n",
       "    }\n",
       "\n",
       "    .dataframe tbody tr th {\n",
       "        vertical-align: top;\n",
       "    }\n",
       "\n",
       "    .dataframe thead th {\n",
       "        text-align: right;\n",
       "    }\n",
       "</style>\n",
       "<table border=\"1\" class=\"dataframe\">\n",
       "  <thead>\n",
       "    <tr style=\"text-align: right;\">\n",
       "      <th></th>\n",
       "      <th>transactionid</th>\n",
       "      <th>visitorid</th>\n",
       "      <th>date</th>\n",
       "      <th>revenue</th>\n",
       "      <th>group</th>\n",
       "    </tr>\n",
       "  </thead>\n",
       "  <tbody>\n",
       "    <tr>\n",
       "      <th>0</th>\n",
       "      <td>3667963787</td>\n",
       "      <td>3312258926</td>\n",
       "      <td>2019-08-15</td>\n",
       "      <td>1650</td>\n",
       "      <td>B</td>\n",
       "    </tr>\n",
       "    <tr>\n",
       "      <th>1</th>\n",
       "      <td>2804400009</td>\n",
       "      <td>3642806036</td>\n",
       "      <td>2019-08-15</td>\n",
       "      <td>730</td>\n",
       "      <td>B</td>\n",
       "    </tr>\n",
       "    <tr>\n",
       "      <th>2</th>\n",
       "      <td>2961555356</td>\n",
       "      <td>4069496402</td>\n",
       "      <td>2019-08-15</td>\n",
       "      <td>400</td>\n",
       "      <td>A</td>\n",
       "    </tr>\n",
       "    <tr>\n",
       "      <th>3</th>\n",
       "      <td>3797467345</td>\n",
       "      <td>1196621759</td>\n",
       "      <td>2019-08-15</td>\n",
       "      <td>9759</td>\n",
       "      <td>B</td>\n",
       "    </tr>\n",
       "    <tr>\n",
       "      <th>4</th>\n",
       "      <td>2282983706</td>\n",
       "      <td>2322279887</td>\n",
       "      <td>2019-08-15</td>\n",
       "      <td>2308</td>\n",
       "      <td>B</td>\n",
       "    </tr>\n",
       "  </tbody>\n",
       "</table>\n",
       "</div>"
      ],
      "text/plain": [
       "   transactionid   visitorid       date  revenue group\n",
       "0     3667963787  3312258926 2019-08-15     1650     B\n",
       "1     2804400009  3642806036 2019-08-15      730     B\n",
       "2     2961555356  4069496402 2019-08-15      400     A\n",
       "3     3797467345  1196621759 2019-08-15     9759     B\n",
       "4     2282983706  2322279887 2019-08-15     2308     B"
      ]
     },
     "execution_count": 10,
     "metadata": {},
     "output_type": "execute_result"
    }
   ],
   "source": [
    "# Первые 5 строк orders\n",
    "orders.head(5)"
   ]
  },
  {
   "cell_type": "code",
   "execution_count": 11,
   "metadata": {
    "scrolled": true
   },
   "outputs": [
    {
     "name": "stdout",
     "output_type": "stream",
     "text": [
      "<class 'pandas.core.frame.DataFrame'>\n",
      "RangeIndex: 62 entries, 0 to 61\n",
      "Data columns (total 3 columns):\n",
      " #   Column    Non-Null Count  Dtype \n",
      "---  ------    --------------  ----- \n",
      " 0   date      62 non-null     object\n",
      " 1   group     62 non-null     object\n",
      " 2   visitors  62 non-null     int64 \n",
      "dtypes: int64(1), object(2)\n",
      "memory usage: 1.6+ KB\n"
     ]
    }
   ],
   "source": [
    "# Загрузка файла с пользователями\n",
    "visitors = pd.read_csv('c:/projects/datasets/visitors.csv')\n",
    "visitors.info()"
   ]
  },
  {
   "cell_type": "code",
   "execution_count": 12,
   "metadata": {},
   "outputs": [
    {
     "name": "stdout",
     "output_type": "stream",
     "text": [
      "<class 'pandas.core.frame.DataFrame'>\n",
      "RangeIndex: 62 entries, 0 to 61\n",
      "Data columns (total 3 columns):\n",
      " #   Column    Non-Null Count  Dtype         \n",
      "---  ------    --------------  -----         \n",
      " 0   date      62 non-null     datetime64[ns]\n",
      " 1   group     62 non-null     object        \n",
      " 2   visitors  62 non-null     int64         \n",
      "dtypes: datetime64[ns](1), int64(1), object(1)\n",
      "memory usage: 1.6+ KB\n"
     ]
    }
   ],
   "source": [
    "# Преобразовываем столбец с датами в нужный тип.\n",
    "visitors['date'] = visitors['date'].map(lambda x: dt.datetime.strptime(x, '%Y-%m-%d'))\n",
    "visitors.info()"
   ]
  },
  {
   "cell_type": "code",
   "execution_count": 13,
   "metadata": {},
   "outputs": [
    {
     "name": "stdout",
     "output_type": "stream",
     "text": [
      "date        0\n",
      "group       0\n",
      "visitors    0\n",
      "dtype: int64\n"
     ]
    }
   ],
   "source": [
    "# Проверка visitors на пропуски\n",
    "print(visitors.isna().sum())"
   ]
  },
  {
   "cell_type": "code",
   "execution_count": 14,
   "metadata": {},
   "outputs": [
    {
     "name": "stdout",
     "output_type": "stream",
     "text": [
      "0\n"
     ]
    }
   ],
   "source": [
    "# Проверка visitors на дубликаты\n",
    "print(visitors.duplicated().sum())"
   ]
  },
  {
   "cell_type": "code",
   "execution_count": 15,
   "metadata": {},
   "outputs": [
    {
     "data": {
      "text/html": [
       "<div>\n",
       "<style scoped>\n",
       "    .dataframe tbody tr th:only-of-type {\n",
       "        vertical-align: middle;\n",
       "    }\n",
       "\n",
       "    .dataframe tbody tr th {\n",
       "        vertical-align: top;\n",
       "    }\n",
       "\n",
       "    .dataframe thead th {\n",
       "        text-align: right;\n",
       "    }\n",
       "</style>\n",
       "<table border=\"1\" class=\"dataframe\">\n",
       "  <thead>\n",
       "    <tr style=\"text-align: right;\">\n",
       "      <th></th>\n",
       "      <th>date</th>\n",
       "      <th>group</th>\n",
       "      <th>visitors</th>\n",
       "    </tr>\n",
       "  </thead>\n",
       "  <tbody>\n",
       "    <tr>\n",
       "      <th>0</th>\n",
       "      <td>2019-08-01</td>\n",
       "      <td>A</td>\n",
       "      <td>719</td>\n",
       "    </tr>\n",
       "    <tr>\n",
       "      <th>1</th>\n",
       "      <td>2019-08-02</td>\n",
       "      <td>A</td>\n",
       "      <td>619</td>\n",
       "    </tr>\n",
       "    <tr>\n",
       "      <th>2</th>\n",
       "      <td>2019-08-03</td>\n",
       "      <td>A</td>\n",
       "      <td>507</td>\n",
       "    </tr>\n",
       "    <tr>\n",
       "      <th>3</th>\n",
       "      <td>2019-08-04</td>\n",
       "      <td>A</td>\n",
       "      <td>717</td>\n",
       "    </tr>\n",
       "    <tr>\n",
       "      <th>4</th>\n",
       "      <td>2019-08-05</td>\n",
       "      <td>A</td>\n",
       "      <td>756</td>\n",
       "    </tr>\n",
       "  </tbody>\n",
       "</table>\n",
       "</div>"
      ],
      "text/plain": [
       "        date group  visitors\n",
       "0 2019-08-01     A       719\n",
       "1 2019-08-02     A       619\n",
       "2 2019-08-03     A       507\n",
       "3 2019-08-04     A       717\n",
       "4 2019-08-05     A       756"
      ]
     },
     "execution_count": 15,
     "metadata": {},
     "output_type": "execute_result"
    }
   ],
   "source": [
    "# Первые 5 строк visitors\n",
    "visitors.head(5)"
   ]
  },
  {
   "cell_type": "code",
   "execution_count": 16,
   "metadata": {},
   "outputs": [
    {
     "name": "stdout",
     "output_type": "stream",
     "text": [
      "Число групп в А/В тесте: 2\n",
      "Дата начала теста: 2019-08-01\n",
      "Дата окончания теста: 2019-08-31\n",
      "Число пользователей в группе А: 503\n",
      "Число пользователей в группе В: 586\n",
      "В группе В больше пользователей по сравнению с А на: 17 %\n"
     ]
    }
   ],
   "source": [
    "# Число групп в тесте.\n",
    "print('Число групп в А/В тесте:', orders['group'].nunique())\n",
    "print('Дата начала теста:', (pd.to_datetime(orders['date'])).dt.date.min())\n",
    "print('Дата окончания теста:', (pd.to_datetime(orders['date'])).dt.date.max())\n",
    "print('Число пользователей в группе А:', orders[orders['group'] == 'A']['visitorid'].nunique())\n",
    "print('Число пользователей в группе В:', orders[orders['group'] == 'B']['visitorid'].nunique())\n",
    "print('В группе В больше пользователей по сравнению с А на:', round(\n",
    "    ((orders[orders['group'] == 'B']['visitorid'].nunique()) / (\n",
    "        orders[orders['group'] == 'A']['visitorid'].nunique()\n",
    "    ) -1)*100\n",
    "    ), '%'\n",
    ")\n"
   ]
  },
  {
   "cell_type": "markdown",
   "metadata": {},
   "source": [
    "- в тесте 2 группы, это парный тест\n",
    "- тест проводился полный месяц, август 2019 года\n",
    "- в группе `В` пользователей на 17% больше пользователей, по сравнению с группой `А`. Это может повлиять на показатели тестирования, предположительно на относительные показатели, такие как средний чек повлиять не должно.\n"
   ]
  },
  {
   "cell_type": "code",
   "execution_count": 17,
   "metadata": {},
   "outputs": [
    {
     "name": "stdout",
     "output_type": "stream",
     "text": [
      "Число пользователей, присутствующих в обеих группах: 58\n"
     ]
    }
   ],
   "source": [
    "# ID пользователей из группы А\n",
    "users_id_a = orders[orders['group'] == 'A']['visitorid'].unique()\n",
    "# То же для В\n",
    "users_id_b = orders[orders['group'] == 'B']['visitorid'].unique()\n",
    "# проверка на присутствие пользователя в обеих группах\n",
    "counter = 0\n",
    "for i in range(len(users_id_a)):\n",
    "    if users_id_a[i] in users_id_b:\n",
    "        counter+=1\n",
    "if counter > 0:\n",
    "    print('Число пользователей, присутствующих в обеих группах:', counter)\n",
    "else:\n",
    "    print('Нет пользователей, присутствующих в обеих группах')"
   ]
  },
  {
   "cell_type": "markdown",
   "metadata": {},
   "source": [
    "Найдео 58 пользователей, которые оказались в обеих группах. Таких пользователей лучше удалить, так как они видели оба варианта дизайна продукта и мы не можем оценить какой из версий сайта вызвано их потребительское поведение. От 1089 пользователей суммарно это 5,3 %."
   ]
  },
  {
   "cell_type": "code",
   "execution_count": 18,
   "metadata": {},
   "outputs": [
    {
     "name": "stdout",
     "output_type": "stream",
     "text": [
      "<class 'pandas.core.frame.DataFrame'>\n",
      "Int64Index: 1016 entries, 0 to 1196\n",
      "Data columns (total 5 columns):\n",
      " #   Column         Non-Null Count  Dtype         \n",
      "---  ------         --------------  -----         \n",
      " 0   transactionid  1016 non-null   int64         \n",
      " 1   visitorid      1016 non-null   int64         \n",
      " 2   date           1016 non-null   datetime64[ns]\n",
      " 3   revenue        1016 non-null   int64         \n",
      " 4   group          1016 non-null   object        \n",
      "dtypes: datetime64[ns](1), int64(3), object(1)\n",
      "memory usage: 47.6+ KB\n"
     ]
    }
   ],
   "source": [
    "# Перечень ID пользователей, присутствующих в обеих группах.\n",
    "user_id_in_ab = []\n",
    "for i in range(len(users_id_a)):\n",
    "    if users_id_a[i] in users_id_b:\n",
    "        user_id_in_ab.append(users_id_a[i])\n",
    "# очистка таблицы orders\n",
    "orders = orders[orders['visitorid'].isin(user_id_in_ab) == False]\n",
    "orders.info()"
   ]
  },
  {
   "cell_type": "code",
   "execution_count": 19,
   "metadata": {},
   "outputs": [
    {
     "data": {
      "text/html": [
       "<div>\n",
       "<style scoped>\n",
       "    .dataframe tbody tr th:only-of-type {\n",
       "        vertical-align: middle;\n",
       "    }\n",
       "\n",
       "    .dataframe tbody tr th {\n",
       "        vertical-align: top;\n",
       "    }\n",
       "\n",
       "    .dataframe thead th {\n",
       "        text-align: right;\n",
       "    }\n",
       "</style>\n",
       "<table border=\"1\" class=\"dataframe\">\n",
       "  <thead>\n",
       "    <tr style=\"text-align: right;\">\n",
       "      <th></th>\n",
       "      <th>date</th>\n",
       "      <th>group</th>\n",
       "      <th>orders</th>\n",
       "      <th>buyers</th>\n",
       "      <th>revenue</th>\n",
       "      <th>visitors</th>\n",
       "    </tr>\n",
       "  </thead>\n",
       "  <tbody>\n",
       "    <tr>\n",
       "      <th>0</th>\n",
       "      <td>2019-08-01</td>\n",
       "      <td>A</td>\n",
       "      <td>23</td>\n",
       "      <td>19</td>\n",
       "      <td>142779</td>\n",
       "      <td>719</td>\n",
       "    </tr>\n",
       "    <tr>\n",
       "      <th>1</th>\n",
       "      <td>2019-08-01</td>\n",
       "      <td>B</td>\n",
       "      <td>17</td>\n",
       "      <td>17</td>\n",
       "      <td>59758</td>\n",
       "      <td>713</td>\n",
       "    </tr>\n",
       "    <tr>\n",
       "      <th>2</th>\n",
       "      <td>2019-08-02</td>\n",
       "      <td>A</td>\n",
       "      <td>42</td>\n",
       "      <td>36</td>\n",
       "      <td>234381</td>\n",
       "      <td>1338</td>\n",
       "    </tr>\n",
       "    <tr>\n",
       "      <th>3</th>\n",
       "      <td>2019-08-02</td>\n",
       "      <td>B</td>\n",
       "      <td>40</td>\n",
       "      <td>39</td>\n",
       "      <td>221801</td>\n",
       "      <td>1294</td>\n",
       "    </tr>\n",
       "    <tr>\n",
       "      <th>4</th>\n",
       "      <td>2019-08-03</td>\n",
       "      <td>A</td>\n",
       "      <td>66</td>\n",
       "      <td>60</td>\n",
       "      <td>346854</td>\n",
       "      <td>1845</td>\n",
       "    </tr>\n",
       "  </tbody>\n",
       "</table>\n",
       "</div>"
      ],
      "text/plain": [
       "        date group  orders  buyers  revenue  visitors\n",
       "0 2019-08-01     A      23      19   142779       719\n",
       "1 2019-08-01     B      17      17    59758       713\n",
       "2 2019-08-02     A      42      36   234381      1338\n",
       "3 2019-08-02     B      40      39   221801      1294\n",
       "4 2019-08-03     A      66      60   346854      1845"
      ]
     },
     "execution_count": 19,
     "metadata": {},
     "output_type": "execute_result"
    }
   ],
   "source": [
    "# Расчет кумулятивных данных\n",
    "\n",
    "# Массив уникальных значений пар дат и групп теста\n",
    "dates_groups = orders[['date', 'group']].drop_duplicates()\n",
    "# Агреггированные кумулятивные данные для закзов.\n",
    "orders_aggregated = dates_groups.apply(lambda x: orders[np.logical_and(orders['date'] <= x['date'], orders['group'] == x['group'])].agg({'date' : 'max', 'group' : 'max', 'transactionid' : 'nunique', 'visitorid' : 'nunique', 'revenue' : 'sum'}), axis=1).sort_values(by=['date','group'])\n",
    "# Аналогично для посетителей\n",
    "visitors_aggregated = dates_groups.apply(lambda x: visitors[np.logical_and(visitors['date'] <= x['date'], visitors['group'] == x['group'])].agg({'date' : 'max', 'group' : 'max', 'visitors' : 'sum'}), axis=1).sort_values(by=['date','group'])\n",
    "# объединяем кумулятивные данные в одной таблице и присваиваем ее столбцам названия\n",
    "cumulative_data = orders_aggregated.merge(visitors_aggregated, left_on=['date', 'group'], right_on=['date', 'group'])\n",
    "cumulative_data.columns = ['date', 'group', 'orders', 'buyers', 'revenue', 'visitors']\n",
    "cumulative_data.head(5)"
   ]
  },
  {
   "cell_type": "markdown",
   "metadata": {},
   "source": [
    "**Выводы по предварительной подготовке данных**  \n",
    "Загружены данные по посетителям и заказам, даты преобразованы к нужному типу данных, пропусков и дубликатов нет. Удалены пользователи, которые оказались в обеих группах. \n",
    "Рассчитаны кумулятивные данные для дальнейшего анализа."
   ]
  },
  {
   "cell_type": "markdown",
   "metadata": {},
   "source": [
    "<a id='revenue'></a>\n",
    "### Динамика кумулятивной выручки по группам"
   ]
  },
  {
   "cell_type": "code",
   "execution_count": 20,
   "metadata": {},
   "outputs": [
    {
     "data": {
      "image/png": "[encoded data removed]",
      "text/plain": [
       "<Figure size 640x480 with 1 Axes>"
      ]
     },
     "metadata": {},
     "output_type": "display_data"
    }
   ],
   "source": [
    "# кумулятивные заказы и выручка по группе А\n",
    "cumulative_revenue_a = cumulative_data[cumulative_data['group'] == 'A'][['date', 'revenue', 'orders']]\n",
    "# кумулятивные заказы и выручка по группе В\n",
    "cumulative_revenue_b = cumulative_data[cumulative_data['group'] == 'B'][['date', 'revenue', 'orders']]\n",
    "# график кумулятивной выручки группы А\n",
    "plt.plot(cumulative_revenue_a['date'], cumulative_revenue_a['revenue'], label='A')\n",
    "# график кумулятивной выручки группы B\n",
    "plt.plot(cumulative_revenue_b['date'], cumulative_revenue_b['revenue'], label='B')\n",
    "plt.title('Кумулятивная выручка', fontsize=16)\n",
    "plt.xlabel('Время', fontsize=14)\n",
    "plt.ylabel('Выручка', fontsize=14)\n",
    "plt.grid()\n",
    "plt.xticks(rotation=45)\n",
    "plt.legend();"
   ]
  },
  {
   "cell_type": "markdown",
   "metadata": {},
   "source": [
    "**Вывод по графику кумулятивной выручки по группам**  \n",
    "После 16 дня эксперимента кумулятивная выручка по группе `B` превышает кумулятивную выручку по группе `A`.\n"
   ]
  },
  {
   "cell_type": "markdown",
   "metadata": {},
   "source": [
    "<a id='check'></a>\n",
    "### Динамика кумулятивного среднего чека по группам\n",
    "<a id='graph1'></a>"
   ]
  },
  {
   "cell_type": "code",
   "execution_count": 21,
   "metadata": {
    "scrolled": false
   },
   "outputs": [
    {
     "data": {
      "image/png": "[encoded data removed]",
      "text/plain": [
       "<Figure size 600x400 with 1 Axes>"
      ]
     },
     "metadata": {},
     "output_type": "display_data"
    }
   ],
   "source": [
    "# Графики среднего чека по группам (выручка / число заказов)\n",
    "plt.figure(figsize=(6, 4))\n",
    "plt.plot(cumulative_revenue_a['date'], cumulative_revenue_a['revenue']/cumulative_revenue_a['orders'], label='A')\n",
    "plt.plot(cumulative_revenue_b['date'], cumulative_revenue_b['revenue']/cumulative_revenue_b['orders'], label='B')\n",
    "plt.title('Кумулятивный средний чек', fontsize=16)\n",
    "plt.xlabel('Время', fontsize=14)\n",
    "plt.ylabel('Средний чек', fontsize=14)\n",
    "plt.grid()\n",
    "plt.xticks(rotation=45)\n",
    "plt.legend();"
   ]
  },
  {
   "cell_type": "markdown",
   "metadata": {},
   "source": [
    "**Вывод по графику кумулятивного среднего чека по группам**  \n",
    "После 16 дня эксперимента кумулятивный средний чек по группе `B` резко возрастает по сравнению с кумулятивной выручкой по группе `A`. Затем следует небольшой спад. Такой характер изменений может свидетельствовать о наличии аномально больших заказов 17-19 августа 2019 года."
   ]
  },
  {
   "cell_type": "markdown",
   "metadata": {},
   "source": [
    "### Относительное изменение кумулятивного среднего чека группы B к группе A."
   ]
  },
  {
   "cell_type": "markdown",
   "metadata": {},
   "source": [
    "<a id='graph1'></a>"
   ]
  },
  {
   "cell_type": "code",
   "execution_count": 22,
   "metadata": {
    "scrolled": false
   },
   "outputs": [
    {
     "data": {
      "image/png": "[encoded data removed]",
      "text/plain": [
       "<Figure size 600x400 with 1 Axes>"
      ]
     },
     "metadata": {},
     "output_type": "display_data"
    }
   ],
   "source": [
    "# Объединяем данные\n",
    "merged_cumulative_revenue = cumulative_revenue_a.merge(cumulative_revenue_b, \n",
    "                                                     left_on='date', right_on='date', how='left', suffixes=['A', 'B'])\n",
    "# Строим график\n",
    "plt.figure(figsize=(6, 4))\n",
    "plt.plot(merged_cumulative_revenue['date'],\n",
    "        (merged_cumulative_revenue['revenueB']/merged_cumulative_revenue['ordersB']) / (merged_cumulative_revenue['revenueA']/merged_cumulative_revenue['ordersA']) - 1)\n",
    "plt.title('Относительное изменение \\n кумулятивного среднего чека В к А', fontsize=16)\n",
    "plt.xlabel('Время', fontsize=14)\n",
    "plt.ylabel('Средний чек В к А', fontsize=14)\n",
    "plt.grid()\n",
    "plt.xticks(rotation=45)\n",
    "plt.axhline(y=0, color='black', linestyle='--');"
   ]
  },
  {
   "cell_type": "markdown",
   "metadata": {},
   "source": [
    "**Вывод по графику кумулятивного среднего чека по группам**  \n",
    "Отношение среднего чек группы `B` к группе `A` снижалось до 13 августа, после 17 августа резкий рост, возможно связанный с аномально большими заказами."
   ]
  },
  {
   "cell_type": "markdown",
   "metadata": {},
   "source": [
    "<a id='graph2'></a>\n",
    "### Зависимость кумулятивного среднего количества заказов на посетителя по группам.\n",
    "<b id='graph2'></b>"
   ]
  },
  {
   "cell_type": "code",
   "execution_count": 23,
   "metadata": {
    "scrolled": false
   },
   "outputs": [
    {
     "data": {
      "image/png": "[encoded data removed]",
      "text/plain": [
       "<Figure size 600x400 with 1 Axes>"
      ]
     },
     "metadata": {},
     "output_type": "display_data"
    }
   ],
   "source": [
    "# Кумулятивные заказы и посетители по группе А\n",
    "cumulative_orders_a = cumulative_data[cumulative_data['group'] == 'A'][['date', 'orders', 'visitors']]\n",
    "# Кумулятивные заказы и посетители по группе B\n",
    "cumulative_orders_b = cumulative_data[cumulative_data['group'] == 'B'][['date', 'orders', 'visitors']]\n",
    "# График кумулятивного среднего числа заказов на посетителя по группам\n",
    "plt.figure(figsize=(6, 4))\n",
    "plt.plot(cumulative_orders_a['date'], cumulative_orders_a['orders'] / cumulative_orders_a['visitors'], label='A')\n",
    "plt.plot(cumulative_orders_b['date'], cumulative_orders_b['orders'] / cumulative_orders_b['visitors'], label='B')\n",
    "plt.title('Кумулятивное среднее количество \\n заказов на посетителя по группам', fontsize=16)\n",
    "plt.ylabel('Среднее количество заказов', fontsize=14)\n",
    "plt.xlabel('Время', fontsize=14)\n",
    "plt.xticks(rotation=45)\n",
    "plt.grid()\n",
    "plt.legend();"
   ]
  },
  {
   "cell_type": "markdown",
   "metadata": {},
   "source": [
    "**Вывод по графику кумулятивного среднего чека по группам**  \n",
    "Среднее количество заказов на посетителя стабилизировалось на 10 день эксперимента, количество заказов в группе `B` стабильно выше, чем в группе `A`."
   ]
  },
  {
   "cell_type": "markdown",
   "metadata": {},
   "source": [
    "<a id='graph3'></a>\n",
    "### Зависимость изменения относительного кумулятивного среднего количества заказов на посетителя группы B к группе A."
   ]
  },
  {
   "cell_type": "code",
   "execution_count": 24,
   "metadata": {},
   "outputs": [
    {
     "data": {
      "image/png": "[encoded data removed]",
      "text/plain": [
       "<Figure size 640x480 with 1 Axes>"
      ]
     },
     "metadata": {},
     "output_type": "display_data"
    }
   ],
   "source": [
    "# Объединяем данные\n",
    "merged_cumulative_orders = cumulative_orders_a.merge(cumulative_orders_b, \n",
    "                                                     left_on='date', right_on='date', how='left', suffixes=['A', 'B'])\n",
    "# Строим график\n",
    "plt.plot(merged_cumulative_orders['date'],\n",
    "        (merged_cumulative_orders['ordersB']/merged_cumulative_orders['visitorsB']) / (merged_cumulative_orders['ordersA']/merged_cumulative_orders['visitorsA']) - 1)\n",
    "plt.title('Относительное изменение \\n кумулятивного среднего количества заказов В к А', fontsize=16)\n",
    "plt.xlabel('Время', fontsize=14)\n",
    "plt.ylabel('Среднее число заказов В к А', fontsize=14)\n",
    "plt.grid()\n",
    "plt.xticks(rotation=45)\n",
    "plt.axhline(y=0, color='black', linestyle='--');"
   ]
  },
  {
   "cell_type": "markdown",
   "metadata": {},
   "source": [
    "**Вывод по графику кумулятивного среднего количества заказов на посетителя по группам**  \n",
    "Среднее количество заказов на посетителя стабилизировалось на 10 день эксперимента, далее количество заказов в группе `B` относительно группы `A` стабильно выше нуля."
   ]
  },
  {
   "cell_type": "markdown",
   "metadata": {},
   "source": [
    "<a id='orders_cnt'></a>\n",
    "### Точечный график количества заказов по пользователям."
   ]
  },
  {
   "cell_type": "code",
   "execution_count": 25,
   "metadata": {},
   "outputs": [
    {
     "data": {
      "text/html": [
       "<div>\n",
       "<style scoped>\n",
       "    .dataframe tbody tr th:only-of-type {\n",
       "        vertical-align: middle;\n",
       "    }\n",
       "\n",
       "    .dataframe tbody tr th {\n",
       "        vertical-align: top;\n",
       "    }\n",
       "\n",
       "    .dataframe thead th {\n",
       "        text-align: right;\n",
       "    }\n",
       "</style>\n",
       "<table border=\"1\" class=\"dataframe\">\n",
       "  <thead>\n",
       "    <tr style=\"text-align: right;\">\n",
       "      <th></th>\n",
       "      <th>user_id</th>\n",
       "      <th>orders</th>\n",
       "    </tr>\n",
       "  </thead>\n",
       "  <tbody>\n",
       "    <tr>\n",
       "      <th>908</th>\n",
       "      <td>3967698036</td>\n",
       "      <td>3</td>\n",
       "    </tr>\n",
       "    <tr>\n",
       "      <th>55</th>\n",
       "      <td>249864742</td>\n",
       "      <td>3</td>\n",
       "    </tr>\n",
       "    <tr>\n",
       "      <th>478</th>\n",
       "      <td>2108163459</td>\n",
       "      <td>3</td>\n",
       "    </tr>\n",
       "    <tr>\n",
       "      <th>687</th>\n",
       "      <td>2988190573</td>\n",
       "      <td>3</td>\n",
       "    </tr>\n",
       "    <tr>\n",
       "      <th>890</th>\n",
       "      <td>3908431265</td>\n",
       "      <td>3</td>\n",
       "    </tr>\n",
       "    <tr>\n",
       "      <th>138</th>\n",
       "      <td>611059232</td>\n",
       "      <td>3</td>\n",
       "    </tr>\n",
       "    <tr>\n",
       "      <th>632</th>\n",
       "      <td>2742574263</td>\n",
       "      <td>3</td>\n",
       "    </tr>\n",
       "    <tr>\n",
       "      <th>157</th>\n",
       "      <td>678354126</td>\n",
       "      <td>2</td>\n",
       "    </tr>\n",
       "    <tr>\n",
       "      <th>323</th>\n",
       "      <td>1404560065</td>\n",
       "      <td>2</td>\n",
       "    </tr>\n",
       "    <tr>\n",
       "      <th>452</th>\n",
       "      <td>1985475298</td>\n",
       "      <td>2</td>\n",
       "    </tr>\n",
       "  </tbody>\n",
       "</table>\n",
       "</div>"
      ],
      "text/plain": [
       "        user_id  orders\n",
       "908  3967698036       3\n",
       "55    249864742       3\n",
       "478  2108163459       3\n",
       "687  2988190573       3\n",
       "890  3908431265       3\n",
       "138   611059232       3\n",
       "632  2742574263       3\n",
       "157   678354126       2\n",
       "323  1404560065       2\n",
       "452  1985475298       2"
      ]
     },
     "execution_count": 25,
     "metadata": {},
     "output_type": "execute_result"
    }
   ],
   "source": [
    "# Таблица с заказами пользователей.\n",
    "orders_by_users = (\n",
    "    orders.groupby('visitorid', as_index=False)\n",
    "    .agg({'transactionid': 'nunique'})\n",
    ")\n",
    "orders_by_users.columns = ['user_id', 'orders']\n",
    "orders_by_users = orders_by_users.sort_values(by='orders', ascending=False)\n",
    "orders_by_users.head(10)"
   ]
  },
  {
   "cell_type": "code",
   "execution_count": 26,
   "metadata": {
    "scrolled": false
   },
   "outputs": [
    {
     "data": {
      "image/png": "[encoded data removed]",
      "text/plain": [
       "<Figure size 600x400 with 1 Axes>"
      ]
     },
     "metadata": {},
     "output_type": "display_data"
    }
   ],
   "source": [
    "# Точечный график числа заказов пользователей\n",
    "plt.figure(figsize=(6, 4))\n",
    "x_values = pd.Series(range(0, len(orders_by_users)))\n",
    "plt.scatter(x_values, orders_by_users['orders'])\n",
    "plt.title('Число заказов пользователей', fontsize=16)\n",
    "plt.ylabel('Число заказов', fontsize=14)\n",
    "plt.xlabel('Пользователи', fontsize=14);"
   ]
  },
  {
   "cell_type": "markdown",
   "metadata": {},
   "source": [
    "**Вывод по точечному графику числа заказов пользователей**  \n",
    "Много пользователей с заказами 5 и менее."
   ]
  },
  {
   "cell_type": "markdown",
   "metadata": {},
   "source": [
    "<a id='orders'></a>\n",
    "### Расчет 95-й и 99-й перцентиля количества заказов на пользователя."
   ]
  },
  {
   "cell_type": "code",
   "execution_count": 27,
   "metadata": {
    "scrolled": true
   },
   "outputs": [
    {
     "name": "stdout",
     "output_type": "stream",
     "text": [
      "[1. 2.]\n"
     ]
    }
   ],
   "source": [
    "print(np.percentile(orders_by_users['orders'], [95, 99]))"
   ]
  },
  {
   "cell_type": "markdown",
   "metadata": {},
   "source": [
    "**Вывод по расчету персентиля числа заказов пользователей**  \n",
    "95 % пользователей заказали менее двух заказов. 99 % пользователей сделали менее четырех заказов. Можно выбрать за верхнюю границу 4 заказа и отсеять пользователей, которые сделали более четырех заказов."
   ]
  },
  {
   "cell_type": "markdown",
   "metadata": {},
   "source": [
    "<a id='orders_total'></a>\n",
    "### Точечный график стоимостей заказов."
   ]
  },
  {
   "cell_type": "code",
   "execution_count": 28,
   "metadata": {
    "scrolled": false
   },
   "outputs": [
    {
     "data": {
      "image/png": "[encoded data removed]",
      "text/plain": [
       "<Figure size 640x480 with 1 Axes>"
      ]
     },
     "metadata": {},
     "output_type": "display_data"
    }
   ],
   "source": [
    "x_values = pd.Series(range(len(orders)))\n",
    "plt.scatter(x_values, orders['revenue'])\n",
    "plt.title('Стоимость заказов', fontsize=16)\n",
    "plt.ylabel('Стоимость заказов', fontsize=14)\n",
    "plt.xlabel('Пользователи', fontsize=14);"
   ]
  },
  {
   "cell_type": "markdown",
   "metadata": {},
   "source": [
    "**Вывод по точечному графику стоимости заказов**  \n",
    "Заказов с аномально большой стоимостью немного, точные значения по графику определить сложно, нужно использовать другие способы."
   ]
  },
  {
   "cell_type": "code",
   "execution_count": 29,
   "metadata": {
    "scrolled": false
   },
   "outputs": [
    {
     "name": "stdout",
     "output_type": "stream",
     "text": [
      "      transactionid   visitorid       date  revenue group\n",
      "425       590470918  1920142716 2019-08-19  1294500     B\n",
      "1196     3936777065  2108080724 2019-08-15   202740     B\n",
      "1136      666610489  1307669133 2019-08-13    92550     A\n",
      "744      3668308183   888512513 2019-08-27    86620     B\n",
      "743      3603576309  4133034833 2019-08-09    67990     A\n",
      "1103     1348774318  1164614297 2019-08-12    66350     A\n",
      "1099      316924019   148427295 2019-08-12    65710     A\n",
      "949      1347999392   887908475 2019-08-21    60450     A\n",
      "940      2420050534  4003628586 2019-08-08    58550     B\n",
      "131      3163614039  2254586615 2019-08-22    53904     A\n"
     ]
    }
   ],
   "source": [
    "# Топ 10 заказов по стоимости\n",
    "print(orders.sort_values(by='revenue', ascending=False).head(10))"
   ]
  },
  {
   "cell_type": "markdown",
   "metadata": {},
   "source": [
    "Выделяются заказы на 1,3 млн. и 200 тыс."
   ]
  },
  {
   "cell_type": "code",
   "execution_count": 30,
   "metadata": {},
   "outputs": [
    {
     "data": {
      "image/png": "[encoded data removed]",
      "text/plain": [
       "<Figure size 640x480 with 1 Axes>"
      ]
     },
     "metadata": {},
     "output_type": "display_data"
    }
   ],
   "source": [
    "# Точечный график стоимостей заказов без 2х крупных покупок\n",
    "revenue_cleared = orders[orders['revenue'] < 200000]\n",
    "x_values = pd.Series(range(len(revenue_cleared)))\n",
    "plt.scatter(x_values, revenue_cleared['revenue'])\n",
    "plt.title('Стоимость заказов без 2х крупных покупок', fontsize=16)\n",
    "plt.ylabel('Стоимость заказов', fontsize=14)\n",
    "plt.xlabel('Пользователи', fontsize=14);"
   ]
  },
  {
   "cell_type": "markdown",
   "metadata": {},
   "source": [
    "График стал более информативным, основная масса заказов менее 20 000."
   ]
  },
  {
   "cell_type": "markdown",
   "metadata": {},
   "source": [
    "<a id='orders_cost'></a>\n",
    "<b id='cost'></b>\n",
    "### Расчет 95-й и 99-й перцентиля стоимости заказов."
   ]
  },
  {
   "cell_type": "code",
   "execution_count": 31,
   "metadata": {
    "scrolled": true
   },
   "outputs": [
    {
     "name": "stdout",
     "output_type": "stream",
     "text": [
      "[26785. 53904.]\n"
     ]
    }
   ],
   "source": [
    "print(np.percentile(orders['revenue'], [95, 99]))"
   ]
  },
  {
   "cell_type": "markdown",
   "metadata": {},
   "source": [
    "**Вывод по расчету персентиля стоимости заказов**  \n",
    "95 % заказов на сумму менее 27 000. 99 % заказов со стоимостью менее 58 904. Можно выбрать за верхнюю границу 58 904 и отсеять более дорогие заказы."
   ]
  },
  {
   "cell_type": "markdown",
   "metadata": {},
   "source": [
    "<a id='cnt_raw'></a>\n",
    "### Расчет статистической значимости различий в среднем количестве заказов на посетителя между группами по «сырым» данным.  \n",
    "- Нулевая гипотеза: различий в среднем количестве заказов между группами нет. \n",
    "- Альтернативная: различия в среднем количестве заказов между группами есть."
   ]
  },
  {
   "cell_type": "code",
   "execution_count": 32,
   "metadata": {
    "scrolled": false
   },
   "outputs": [
    {
     "data": {
      "image/png": "[encoded data removed]",
      "text/plain": [
       "<Figure size 600x400 with 1 Axes>"
      ]
     },
     "metadata": {},
     "output_type": "display_data"
    }
   ],
   "source": [
    "# Выручка за исключением аномально больших заказов\n",
    "revenue_filtered = orders[orders['revenue'] < (np.percentile(orders['revenue'], [99])[0])]['revenue']\n",
    "# Гистограмма очищенной выручки\n",
    "plt.figure(figsize=(6, 4))\n",
    "revenue_filtered.hist()\n",
    "plt.title('Гистограмма очищенной выручки', fontsize=16)\n",
    "plt.ylabel('Число заказов', fontsize=14)\n",
    "plt.xlabel('Выручка', fontsize=14);"
   ]
  },
  {
   "cell_type": "code",
   "execution_count": 33,
   "metadata": {
    "scrolled": true
   },
   "outputs": [
    {
     "data": {
      "text/plain": [
       "count     1004.000000\n",
       "mean      6251.450199\n",
       "std       8330.227525\n",
       "min         50.000000\n",
       "25%       1190.000000\n",
       "50%       2913.500000\n",
       "75%       7867.500000\n",
       "max      52900.000000\n",
       "Name: revenue, dtype: float64"
      ]
     },
     "execution_count": 33,
     "metadata": {},
     "output_type": "execute_result"
    }
   ],
   "source": [
    "# Статистика по очищенной выручке\n",
    "revenue_filtered.describe()"
   ]
  },
  {
   "cell_type": "markdown",
   "metadata": {},
   "source": [
    "Судя по гистограмме и рассчитанной статистике распределение выручки далеко от нормального, например среднее значение  6251, а медиана 2914, то есть медиана смещена относительно среднего. Поэтому целесообразно выбрать для проверки гипотез критерий Манна-Уитни, подходящий для не нормальных распределений, поскольку он не параметрический, а работает с рангами."
   ]
  },
  {
   "cell_type": "code",
   "execution_count": 34,
   "metadata": {},
   "outputs": [
    {
     "name": "stdout",
     "output_type": "stream",
     "text": [
      "p-value: 0.011\n",
      "Относительная разница между В и А: 0.160\n"
     ]
    }
   ],
   "source": [
    "# Расчет статистической значимости различия в среднем количестве заказов между группами.\n",
    "# для пользователей, которые заказывали хотя бы 1 раз, укажем число совершённых заказов в переменных.\n",
    "orders_by_user_a = (\n",
    "    orders[orders['group'] == 'A']\n",
    "    .groupby('visitorid', as_index=False)\n",
    "    .agg({'transactionid': pd.Series.nunique})\n",
    ")\n",
    "orders_by_user_a.columns = ['user_id', 'orders']\n",
    "\n",
    "orders_by_user_b = (\n",
    "    orders[orders['group'] == 'B']\n",
    "    .groupby('visitorid', as_index=False)\n",
    "    .agg({'transactionid': pd.Series.nunique})\n",
    ")\n",
    "orders_by_user_b.columns = ['user_id', 'orders']\n",
    "# переменные с пользователями из разных групп и их заказами, кто ничего не заказал, соответственно - 0\n",
    "sample_a = pd.concat(\n",
    "    [\n",
    "        orders_by_user_a['orders'],\n",
    "        pd.Series(\n",
    "            0,\n",
    "            index=np.arange(\n",
    "#                data['visitors_per_date_a'].sum() - len(orders_by_user_a['orders'])\n",
    "                (visitors[visitors['group'] == 'A']['visitors']).sum() - len(orders_by_user_a['orders'])\n",
    "            ),\n",
    "            name='orders',\n",
    "        ),\n",
    "    ],\n",
    "    axis=0,\n",
    ")\n",
    "\n",
    "sample_b = pd.concat(\n",
    "    [\n",
    "        orders_by_user_b['orders'],\n",
    "        pd.Series(\n",
    "            0,\n",
    "            index=np.arange(\n",
    "                (visitors[visitors['group'] == 'B']['visitors']).sum() - len(orders_by_user_b['orders'])\n",
    "            ),\n",
    "            name='orders',\n",
    "        ),\n",
    "    ],\n",
    "    axis=0,\n",
    ")\n",
    "# расчет статистики\n",
    "print('p-value:', (\"{0:.3f}\".format(stats.mannwhitneyu(sample_a, sample_b)[1])))\n",
    "print('Относительная разница между В и А:', (\"{0:.3f}\".format(sample_b.mean() / sample_a.mean() - 1)))"
   ]
  },
  {
   "cell_type": "markdown",
   "metadata": {},
   "source": [
    "**Вывод по расчету статистической значимости различий в среднем количестве заказов на посетителя между группами по «сырым» данным.**  \n",
    "Первое число p-value = 0,011 меньше, чем 0,05. Следовательно отвергаем нулевую гипотезу о том, что статистически значимых различий по \"сырым\" в среднем числе заказов между группами нет. Различия имеются.  \n",
    "Относительный выигрыш группы `B` по \"сырым данным составлеяет 16 %.\n"
   ]
  },
  {
   "cell_type": "markdown",
   "metadata": {},
   "source": [
    "### Расчет статистической значимости различий в среднем чеке заказа между группами по «сырым» данным.  \n",
    "- Нулевая гипотеза: различий в среднем чеке между группами нет. \n",
    "- Альтернативная: различия в среднем чеке между группами есть."
   ]
  },
  {
   "cell_type": "code",
   "execution_count": 35,
   "metadata": {
    "scrolled": true
   },
   "outputs": [
    {
     "name": "stdout",
     "output_type": "stream",
     "text": [
      "p-value: 0.829\n",
      "Относительное различие между группами В и А: 0.287\n"
     ]
    }
   ],
   "source": [
    "# расчет статистики\n",
    "print('p-value:', '{0:.3f}'.format(stats.mannwhitneyu(orders[orders['group']=='A']['revenue'], orders[orders['group']=='B']['revenue'])[1]))\n",
    "print('Относительное различие между группами В и А:','{0:.3f}'.format(orders[orders['group']=='B']['revenue'].mean()/orders[orders['group']=='A']['revenue'].mean()-1)) "
   ]
  },
  {
   "cell_type": "markdown",
   "metadata": {},
   "source": [
    "**Вывод по расчету статистической значимости различий в среднем чеке заказа между группами по «сырым» данным.**  \n",
    "Первое число p-value = 0,829 значительно больше, чем 0,05. Следовательно нет причин отвергать нулевую гипотезу о том, что статистически значимых различий по \"сырым\" данным в среднем чеке между группами нет.   \n",
    "При этом средний чек группы `B` по \"сырым значительно выше чека группы `A`, на 28,7 %.  \n",
    "Возможно это связано с аномально большими заказами."
   ]
  },
  {
   "cell_type": "markdown",
   "metadata": {},
   "source": [
    "<a id='cnt_clean'></a>\n",
    "### Расчет статистической значимости различий в среднем количестве заказов на посетителя между группами по «очищенным» данным.  \n",
    "- Нулевая гипотеза: различий в среднем количестве заказов между группами нет. \n",
    "- Альтернативная: различия в среднем количестве заказов между группами есть."
   ]
  },
  {
   "cell_type": "markdown",
   "metadata": {},
   "source": [
    "Примем за аномальных пользователей, которые:\n",
    "- [сделали более 4 заказов](#orders)\n",
    "- [совершили заказ дороже 58 904](#cost)"
   ]
  },
  {
   "cell_type": "code",
   "execution_count": 36,
   "metadata": {
    "scrolled": true
   },
   "outputs": [
    {
     "name": "stdout",
     "output_type": "stream",
     "text": [
      "1099    148427295\n",
      "33      249864742\n",
      "58      611059232\n",
      "949     887908475\n",
      "744     888512513\n",
      "dtype: int64\n"
     ]
    },
    {
     "data": {
      "text/plain": [
       "16"
      ]
     },
     "execution_count": 36,
     "metadata": {},
     "output_type": "execute_result"
    }
   ],
   "source": [
    "# отбор аномальных пользователей\n",
    "users_with_many_oders = pd.concat(\n",
    "    [\n",
    "        orders_by_user_a[orders_by_user_a['orders'] > (np.percentile(orders_by_users['orders'], [99])[0])]['user_id'],\n",
    "        orders_by_user_b[orders_by_user_b['orders'] > (np.percentile(orders_by_users['orders'], [99])[0])]['user_id'],\n",
    "    ],\n",
    "    axis=0,\n",
    ")\n",
    "users_with_expensive_orders = orders[orders['revenue'] > (np.percentile(orders['revenue'], [99])[0])]['visitorid']\n",
    "abnormal_users = (\n",
    "    pd.concat([users_with_many_oders, users_with_expensive_orders], axis=0)\n",
    "    .drop_duplicates()\n",
    "    .sort_values()\n",
    ")\n",
    "print(abnormal_users.head(5))\n",
    "abnormal_users.shape[0]"
   ]
  },
  {
   "cell_type": "code",
   "execution_count": 37,
   "metadata": {},
   "outputs": [
    {
     "data": {
      "text/plain": [
       "1.64"
      ]
     },
     "execution_count": 37,
     "metadata": {},
     "output_type": "execute_result"
    }
   ],
   "source": [
    "# Доля аномальных пользователей\n",
    "round(abnormal_users.shape[0] / orders['visitorid'].nunique() * 100, 2)"
   ]
  },
  {
   "cell_type": "markdown",
   "metadata": {},
   "source": [
    "Исключаем из расчетов 1,64 % аномальных пользователей."
   ]
  },
  {
   "cell_type": "code",
   "execution_count": 38,
   "metadata": {},
   "outputs": [
    {
     "name": "stdout",
     "output_type": "stream",
     "text": [
      "p-value: 0.007\n",
      "Относительное изменение В по сравнению с А: 0.189\n"
     ]
    }
   ],
   "source": [
    "# Расчет статистической значимости различий в среднем количестве заказов между группами теста по очищенным данным.\n",
    "\n",
    "# Очищенная группа А\n",
    "sample_filtered_a = pd.concat(\n",
    "    [\n",
    "        orders_by_user_a[\n",
    "            np.logical_not(orders_by_user_a['user_id'].isin(abnormal_users))\n",
    "        ]['orders'],\n",
    "        pd.Series(\n",
    "            0,\n",
    "            index=np.arange(\n",
    "                (visitors[visitors['group'] == 'A']['visitors']).sum() - len(orders_by_user_a['orders'])\n",
    "            ),\n",
    "            name='orders',\n",
    "        ),\n",
    "    ],\n",
    "    axis=0,\n",
    ")\n",
    "# Очищенная группа В\n",
    "sample_filtered_b = pd.concat(\n",
    "    [\n",
    "        orders_by_user_b[\n",
    "            np.logical_not(orders_by_user_b['user_id'].isin(abnormal_users))\n",
    "        ]['orders'],\n",
    "        pd.Series(\n",
    "            0,\n",
    "            index=np.arange(\n",
    "                (visitors[visitors['group'] == 'B']['visitors']).sum() - len(orders_by_user_b['orders'])\n",
    "            ),\n",
    "            name='orders',\n",
    "        ),\n",
    "    ],\n",
    "    axis=0,\n",
    ")\n",
    "# Статистический критерий Манна-Уитни\n",
    "print('p-value:','{0:.3f}'.format(stats.mannwhitneyu(sample_filtered_a, sample_filtered_b)[1]))\n",
    "print('Относительное изменение В по сравнению с А:', '{0:.3f}'.format(sample_filtered_b.mean()/sample_filtered_a.mean()-1)) "
   ]
  },
  {
   "cell_type": "markdown",
   "metadata": {},
   "source": [
    "**Вывод по расчету статистической значимости различий в среднем количестве заказов между группами по очищенным данным.**\n",
    "Первое число p-value = 0,007 меньше, чем 0,05. Следовательно отвергаем нулевую гипотезу о том, что статистически значимых различий по очищенным данным в среднем числе заказов между группами нет. Различия имеются.\n",
    "Относительный выигрыш группы B по очищенным данным составляет 18,9 %.\n",
    "По сравнению с расчетом по \"сырым\" данныи различия не значительны."
   ]
  },
  {
   "cell_type": "markdown",
   "metadata": {},
   "source": [
    "### Расчет статистической значимости различий в среднем чеке заказа между группами по «очищенным» данным.  \n",
    "- Нулевая гипотеза: различий в среднем чеке между группами нет. \n",
    "- Альтернативная: различия в среднем чеке между группами есть."
   ]
  },
  {
   "cell_type": "code",
   "execution_count": 39,
   "metadata": {},
   "outputs": [
    {
     "name": "stdout",
     "output_type": "stream",
     "text": [
      "p-value: 0.788\n",
      "Относительное изменение В по сравнению с А: -0.032\n"
     ]
    }
   ],
   "source": [
    "# Расчет статистики различий по среднему чеку между группами по очищенным данным\n",
    "\n",
    "print(\n",
    "    'p-value:', '{0:.3f}'.format(\n",
    "        stats.mannwhitneyu(\n",
    "            orders[\n",
    "                np.logical_and(\n",
    "                    orders['group'] == 'A',\n",
    "                    np.logical_not(orders['visitorid'].isin(abnormal_users)),\n",
    "                )\n",
    "            ]['revenue'],\n",
    "            orders[\n",
    "                np.logical_and(\n",
    "                    orders['group'] == 'B',\n",
    "                    np.logical_not(orders['visitorid'].isin(abnormal_users)),\n",
    "                )\n",
    "            ]['revenue'],\n",
    "        )[1]\n",
    "    )\n",
    ")\n",
    "\n",
    "print(\n",
    "    'Относительное изменение В по сравнению с А:', \"{0:.3f}\".format(\n",
    "        orders[\n",
    "            np.logical_and(\n",
    "                orders['group'] == 'B',\n",
    "                np.logical_not(orders['visitorid'].isin(abnormal_users)),\n",
    "            )\n",
    "        ]['revenue'].mean()\n",
    "        / orders[\n",
    "            np.logical_and(\n",
    "                orders['group'] == 'A',\n",
    "                np.logical_not(orders['visitorid'].isin(abnormal_users)),\n",
    "            )\n",
    "        ]['revenue'].mean()\n",
    "        - 1\n",
    "    )\n",
    ") \n"
   ]
  },
  {
   "cell_type": "markdown",
   "metadata": {},
   "source": [
    "**Вывод по расчету статистической значимости различий в среднем чеке заказа между группами по очищенным данным.**\n",
    "Первое число p-value = 0,788 значительно больше, чем 0,05. Следовательно нет причин отвергать нулевую гипотезу о том, что статистически значимых различий по очищенным данным в среднем чеке между группами нет.\n",
    "При этом средний чек группы B по очищенным данным меньше чека группы A на 3,2 %.\n",
    "По сравнению с расчетом по \"сырым\" данным выигрыш группы B значительно сократился."
   ]
  },
  {
   "cell_type": "markdown",
   "metadata": {},
   "source": [
    "<a id='conclusion'></a>\n",
    "## Выводы\n",
    "- По результатам исследования можно сделать вывод о необходимости остановки теста, поскольку зависимости [кумулятивного среднего чека по группам](#graph1) и [кумулятивного среднего значения количества заказов](#graph2) от времени стабилизировались. Дальнейшие изменения маловероятны, продолжение тестирования увеличит затраты на исследование.\n",
    "- По среднему чеку различий между группами не выявлено. \n",
    "- По среднему количеству заказов лидирует группа `B`, выигрыш составляет 18,9 %. Что может привести к соответствующему росту конверсии и выручки. \n",
    "\n",
    "**Итого: фиксируем победу группы В и останавливаем тест.**"
   ]
  }
 ],
 "metadata": {
  "ExecuteTimeLog": [
   {
    "duration": 1241,
    "start_time": "2023-02-14T07:07:15.013Z"
   },
   {
    "duration": 157,
    "start_time": "2023-02-14T07:15:02.243Z"
   },
   {
    "duration": 12,
    "start_time": "2023-02-14T07:21:17.392Z"
   },
   {
    "duration": 5,
    "start_time": "2023-02-14T07:21:30.085Z"
   },
   {
    "duration": 32,
    "start_time": "2023-02-14T07:22:07.768Z"
   },
   {
    "duration": 9,
    "start_time": "2023-02-14T07:22:10.672Z"
   },
   {
    "duration": 8,
    "start_time": "2023-02-14T07:24:01.584Z"
   },
   {
    "duration": 101,
    "start_time": "2023-02-14T07:29:35.029Z"
   },
   {
    "duration": 9,
    "start_time": "2023-02-14T07:29:41.413Z"
   },
   {
    "duration": 12,
    "start_time": "2023-02-14T07:30:17.837Z"
   },
   {
    "duration": 18,
    "start_time": "2023-02-14T07:33:36.179Z"
   },
   {
    "duration": 17,
    "start_time": "2023-02-14T07:33:47.995Z"
   },
   {
    "duration": 9,
    "start_time": "2023-02-14T07:34:18.987Z"
   },
   {
    "duration": 118,
    "start_time": "2023-02-14T07:57:54.362Z"
   },
   {
    "duration": 402,
    "start_time": "2023-02-14T08:00:32.696Z"
   },
   {
    "duration": 11,
    "start_time": "2023-02-14T08:01:13.271Z"
   },
   {
    "duration": 23,
    "start_time": "2023-02-14T08:01:48.561Z"
   },
   {
    "duration": 5,
    "start_time": "2023-02-14T08:02:50.392Z"
   },
   {
    "duration": 6,
    "start_time": "2023-02-14T08:03:57.352Z"
   },
   {
    "duration": 9,
    "start_time": "2023-02-14T08:06:08.408Z"
   },
   {
    "duration": 9,
    "start_time": "2023-02-14T08:06:33.287Z"
   },
   {
    "duration": 85,
    "start_time": "2023-02-14T08:06:40.639Z"
   },
   {
    "duration": 12,
    "start_time": "2023-02-14T08:09:44.030Z"
   },
   {
    "duration": 20,
    "start_time": "2023-02-14T08:10:52.126Z"
   },
   {
    "duration": 5,
    "start_time": "2023-02-14T08:11:01.110Z"
   },
   {
    "duration": 4,
    "start_time": "2023-02-14T08:11:44.021Z"
   },
   {
    "duration": 8,
    "start_time": "2023-02-14T08:15:01.260Z"
   },
   {
    "duration": 56,
    "start_time": "2023-02-14T08:27:51.165Z"
   },
   {
    "duration": 47,
    "start_time": "2023-02-14T08:28:16.252Z"
   },
   {
    "duration": 3235,
    "start_time": "2023-02-14T08:28:39.123Z"
   },
   {
    "duration": 329,
    "start_time": "2023-02-14T08:31:07.391Z"
   },
   {
    "duration": 55,
    "start_time": "2023-02-14T08:31:27.783Z"
   },
   {
    "duration": 69,
    "start_time": "2023-02-14T08:31:44.131Z"
   },
   {
    "duration": 65,
    "start_time": "2023-02-14T08:32:10.166Z"
   },
   {
    "duration": 3100,
    "start_time": "2023-02-14T08:32:51.119Z"
   },
   {
    "duration": 105,
    "start_time": "2023-02-14T08:34:18.102Z"
   },
   {
    "duration": 3232,
    "start_time": "2023-02-14T08:35:22.095Z"
   },
   {
    "duration": 3149,
    "start_time": "2023-02-14T08:39:30.300Z"
   },
   {
    "duration": 5119,
    "start_time": "2023-02-14T08:41:02.388Z"
   },
   {
    "duration": 5332,
    "start_time": "2023-02-14T08:42:40.940Z"
   },
   {
    "duration": 5207,
    "start_time": "2023-02-14T08:43:11.649Z"
   },
   {
    "duration": 5149,
    "start_time": "2023-02-14T08:43:53.411Z"
   },
   {
    "duration": 5079,
    "start_time": "2023-02-14T08:50:06.241Z"
   },
   {
    "duration": 5186,
    "start_time": "2023-02-14T08:50:25.881Z"
   },
   {
    "duration": 4953,
    "start_time": "2023-02-14T08:51:15.049Z"
   },
   {
    "duration": 5113,
    "start_time": "2023-02-14T08:51:37.760Z"
   },
   {
    "duration": 287,
    "start_time": "2023-02-14T08:52:56.081Z"
   },
   {
    "duration": 284,
    "start_time": "2023-02-14T08:53:05.200Z"
   },
   {
    "duration": 3,
    "start_time": "2023-02-14T08:56:22.767Z"
   },
   {
    "duration": 1143,
    "start_time": "2023-02-14T10:15:41.885Z"
   },
   {
    "duration": 147,
    "start_time": "2023-02-14T10:15:43.030Z"
   },
   {
    "duration": 9,
    "start_time": "2023-02-14T10:15:43.179Z"
   },
   {
    "duration": 27,
    "start_time": "2023-02-14T10:15:43.190Z"
   },
   {
    "duration": 10,
    "start_time": "2023-02-14T10:15:43.221Z"
   },
   {
    "duration": 110,
    "start_time": "2023-02-14T10:15:43.233Z"
   },
   {
    "duration": 25,
    "start_time": "2023-02-14T10:15:43.345Z"
   },
   {
    "duration": 12,
    "start_time": "2023-02-14T10:15:43.372Z"
   },
   {
    "duration": 12,
    "start_time": "2023-02-14T10:15:43.387Z"
   },
   {
    "duration": 10,
    "start_time": "2023-02-14T10:15:43.401Z"
   },
   {
    "duration": 77,
    "start_time": "2023-02-14T10:15:43.413Z"
   },
   {
    "duration": 13,
    "start_time": "2023-02-14T10:15:43.496Z"
   },
   {
    "duration": 18,
    "start_time": "2023-02-14T10:15:43.511Z"
   },
   {
    "duration": 5,
    "start_time": "2023-02-14T10:15:43.532Z"
   },
   {
    "duration": 19,
    "start_time": "2023-02-14T10:15:43.539Z"
   },
   {
    "duration": 333,
    "start_time": "2023-02-14T10:15:43.560Z"
   },
   {
    "duration": 234,
    "start_time": "2023-02-14T10:24:43.141Z"
   },
   {
    "duration": 168,
    "start_time": "2023-02-14T10:24:49.115Z"
   },
   {
    "duration": 196,
    "start_time": "2023-02-14T10:32:16.681Z"
   },
   {
    "duration": 193,
    "start_time": "2023-02-14T10:39:56.062Z"
   },
   {
    "duration": 281,
    "start_time": "2023-02-14T10:43:52.876Z"
   },
   {
    "duration": 194,
    "start_time": "2023-02-14T10:44:03.389Z"
   },
   {
    "duration": 194,
    "start_time": "2023-02-14T10:44:33.003Z"
   },
   {
    "duration": 185,
    "start_time": "2023-02-14T10:48:19.427Z"
   },
   {
    "duration": 182,
    "start_time": "2023-02-14T10:50:32.628Z"
   },
   {
    "duration": 242,
    "start_time": "2023-02-14T10:50:48.576Z"
   },
   {
    "duration": 180,
    "start_time": "2023-02-14T10:50:55.825Z"
   },
   {
    "duration": 192,
    "start_time": "2023-02-14T10:51:11.512Z"
   },
   {
    "duration": 158,
    "start_time": "2023-02-14T11:02:10.245Z"
   },
   {
    "duration": 180,
    "start_time": "2023-02-14T11:02:35.853Z"
   },
   {
    "duration": 189,
    "start_time": "2023-02-14T11:02:52.077Z"
   },
   {
    "duration": 9,
    "start_time": "2023-02-14T11:31:43.188Z"
   },
   {
    "duration": 12,
    "start_time": "2023-02-14T11:31:55.878Z"
   },
   {
    "duration": 5,
    "start_time": "2023-02-14T11:32:12.932Z"
   },
   {
    "duration": 172,
    "start_time": "2023-02-14T11:36:23.217Z"
   },
   {
    "duration": 168,
    "start_time": "2023-02-14T11:38:02.768Z"
   },
   {
    "duration": 165,
    "start_time": "2023-02-14T11:38:39.664Z"
   },
   {
    "duration": 170,
    "start_time": "2023-02-14T11:38:52.935Z"
   },
   {
    "duration": 193,
    "start_time": "2023-02-14T11:39:23.535Z"
   },
   {
    "duration": 258,
    "start_time": "2023-02-14T11:39:51.887Z"
   },
   {
    "duration": 243,
    "start_time": "2023-02-14T11:40:25.975Z"
   },
   {
    "duration": 244,
    "start_time": "2023-02-14T11:40:45.281Z"
   },
   {
    "duration": 178,
    "start_time": "2023-02-14T11:41:08.821Z"
   },
   {
    "duration": 188,
    "start_time": "2023-02-14T11:41:36.933Z"
   },
   {
    "duration": 212,
    "start_time": "2023-02-14T11:41:50.469Z"
   },
   {
    "duration": 186,
    "start_time": "2023-02-14T11:42:08.710Z"
   },
   {
    "duration": 195,
    "start_time": "2023-02-14T11:42:20.120Z"
   },
   {
    "duration": 381,
    "start_time": "2023-02-14T11:44:22.419Z"
   },
   {
    "duration": 8,
    "start_time": "2023-02-14T11:55:01.326Z"
   },
   {
    "duration": 6,
    "start_time": "2023-02-14T12:06:53.752Z"
   },
   {
    "duration": 157,
    "start_time": "2023-02-14T12:10:18.881Z"
   },
   {
    "duration": 200,
    "start_time": "2023-02-14T12:14:07.631Z"
   },
   {
    "duration": 170,
    "start_time": "2023-02-14T12:14:18.263Z"
   },
   {
    "duration": 277,
    "start_time": "2023-02-14T12:15:18.054Z"
   },
   {
    "duration": 180,
    "start_time": "2023-02-14T12:15:46.413Z"
   },
   {
    "duration": 235,
    "start_time": "2023-02-14T12:16:47.150Z"
   },
   {
    "duration": 203,
    "start_time": "2023-02-14T12:17:23.617Z"
   },
   {
    "duration": 254,
    "start_time": "2023-02-14T12:31:22.398Z"
   },
   {
    "duration": 3,
    "start_time": "2023-02-14T13:10:48.296Z"
   },
   {
    "duration": 43,
    "start_time": "2023-02-14T13:10:48.301Z"
   },
   {
    "duration": 7,
    "start_time": "2023-02-14T13:10:48.346Z"
   },
   {
    "duration": 10,
    "start_time": "2023-02-14T13:10:48.355Z"
   },
   {
    "duration": 10,
    "start_time": "2023-02-14T13:10:48.366Z"
   },
   {
    "duration": 50,
    "start_time": "2023-02-14T13:10:48.377Z"
   },
   {
    "duration": 17,
    "start_time": "2023-02-14T13:10:48.428Z"
   },
   {
    "duration": 9,
    "start_time": "2023-02-14T13:10:48.447Z"
   },
   {
    "duration": 6,
    "start_time": "2023-02-14T13:10:48.458Z"
   },
   {
    "duration": 8,
    "start_time": "2023-02-14T13:10:48.467Z"
   },
   {
    "duration": 26,
    "start_time": "2023-02-14T13:10:48.477Z"
   },
   {
    "duration": 10,
    "start_time": "2023-02-14T13:10:48.505Z"
   },
   {
    "duration": 17,
    "start_time": "2023-02-14T13:10:48.516Z"
   },
   {
    "duration": 15,
    "start_time": "2023-02-14T13:10:48.534Z"
   },
   {
    "duration": 12,
    "start_time": "2023-02-14T13:10:48.550Z"
   },
   {
    "duration": 266,
    "start_time": "2023-02-14T13:10:48.563Z"
   },
   {
    "duration": 194,
    "start_time": "2023-02-14T13:10:48.831Z"
   },
   {
    "duration": 195,
    "start_time": "2023-02-14T13:10:49.027Z"
   },
   {
    "duration": 322,
    "start_time": "2023-02-14T13:10:49.224Z"
   },
   {
    "duration": 220,
    "start_time": "2023-02-14T13:10:49.547Z"
   },
   {
    "duration": 287,
    "start_time": "2023-02-14T13:10:49.769Z"
   },
   {
    "duration": 56,
    "start_time": "2023-02-14T13:28:41.624Z"
   },
   {
    "duration": 10,
    "start_time": "2023-02-14T13:29:07.043Z"
   },
   {
    "duration": 8,
    "start_time": "2023-02-14T13:45:37.431Z"
   },
   {
    "duration": 109,
    "start_time": "2023-02-14T13:45:44.183Z"
   },
   {
    "duration": 121,
    "start_time": "2023-02-14T13:48:06.448Z"
   },
   {
    "duration": 4,
    "start_time": "2023-02-14T13:58:43.938Z"
   },
   {
    "duration": 5,
    "start_time": "2023-02-14T14:01:45.728Z"
   },
   {
    "duration": 4,
    "start_time": "2023-02-14T14:01:52.616Z"
   },
   {
    "duration": 137,
    "start_time": "2023-02-14T14:17:51.776Z"
   },
   {
    "duration": 7,
    "start_time": "2023-02-14T14:22:48.735Z"
   },
   {
    "duration": 52,
    "start_time": "2023-02-14T14:26:03.151Z"
   },
   {
    "duration": 49,
    "start_time": "2023-02-14T14:27:25.547Z"
   },
   {
    "duration": 5,
    "start_time": "2023-02-14T14:27:45.349Z"
   },
   {
    "duration": 1305,
    "start_time": "2023-02-15T07:09:56.504Z"
   },
   {
    "duration": 173,
    "start_time": "2023-02-15T07:09:57.812Z"
   },
   {
    "duration": 12,
    "start_time": "2023-02-15T07:09:57.988Z"
   },
   {
    "duration": 17,
    "start_time": "2023-02-15T07:09:58.003Z"
   },
   {
    "duration": 11,
    "start_time": "2023-02-15T07:09:58.022Z"
   },
   {
    "duration": 106,
    "start_time": "2023-02-15T07:09:58.035Z"
   },
   {
    "duration": 21,
    "start_time": "2023-02-15T07:09:58.143Z"
   },
   {
    "duration": 21,
    "start_time": "2023-02-15T07:09:58.166Z"
   },
   {
    "duration": 8,
    "start_time": "2023-02-15T07:09:58.189Z"
   },
   {
    "duration": 13,
    "start_time": "2023-02-15T07:09:58.201Z"
   },
   {
    "duration": 74,
    "start_time": "2023-02-15T07:09:58.216Z"
   },
   {
    "duration": 17,
    "start_time": "2023-02-15T07:09:58.292Z"
   },
   {
    "duration": 7,
    "start_time": "2023-02-15T07:09:58.311Z"
   },
   {
    "duration": 9,
    "start_time": "2023-02-15T07:09:58.320Z"
   },
   {
    "duration": 33,
    "start_time": "2023-02-15T07:09:58.331Z"
   },
   {
    "duration": 366,
    "start_time": "2023-02-15T07:09:58.366Z"
   },
   {
    "duration": 374,
    "start_time": "2023-02-15T07:09:58.734Z"
   },
   {
    "duration": 237,
    "start_time": "2023-02-15T07:09:59.110Z"
   },
   {
    "duration": 399,
    "start_time": "2023-02-15T07:09:59.348Z"
   },
   {
    "duration": 253,
    "start_time": "2023-02-15T07:09:59.750Z"
   },
   {
    "duration": 322,
    "start_time": "2023-02-15T07:10:00.005Z"
   },
   {
    "duration": 13,
    "start_time": "2023-02-15T07:10:00.329Z"
   },
   {
    "duration": 146,
    "start_time": "2023-02-15T07:10:00.344Z"
   },
   {
    "duration": 12,
    "start_time": "2023-02-15T07:10:00.492Z"
   },
   {
    "duration": 164,
    "start_time": "2023-02-15T07:10:00.506Z"
   },
   {
    "duration": 8,
    "start_time": "2023-02-15T07:10:00.671Z"
   },
   {
    "duration": 35,
    "start_time": "2023-02-15T07:10:00.680Z"
   },
   {
    "duration": 51,
    "start_time": "2023-02-15T07:18:48.239Z"
   },
   {
    "duration": 112,
    "start_time": "2023-02-15T07:20:06.654Z"
   },
   {
    "duration": 197,
    "start_time": "2023-02-15T07:32:19.561Z"
   },
   {
    "duration": 249,
    "start_time": "2023-02-15T07:37:35.063Z"
   },
   {
    "duration": 261,
    "start_time": "2023-02-15T07:56:39.570Z"
   },
   {
    "duration": 221,
    "start_time": "2023-02-15T07:57:57.201Z"
   },
   {
    "duration": 12,
    "start_time": "2023-02-15T08:12:31.188Z"
   },
   {
    "duration": 115,
    "start_time": "2023-02-15T08:40:16.328Z"
   },
   {
    "duration": 62,
    "start_time": "2023-02-15T08:41:19.886Z"
   },
   {
    "duration": 13,
    "start_time": "2023-02-15T08:42:22.577Z"
   },
   {
    "duration": 11,
    "start_time": "2023-02-15T08:42:46.640Z"
   },
   {
    "duration": 5,
    "start_time": "2023-02-15T08:44:06.911Z"
   },
   {
    "duration": 4,
    "start_time": "2023-02-15T08:45:13.735Z"
   },
   {
    "duration": 4,
    "start_time": "2023-02-15T08:45:35.463Z"
   },
   {
    "duration": 4,
    "start_time": "2023-02-15T11:15:36.666Z"
   },
   {
    "duration": 55,
    "start_time": "2023-02-15T11:15:36.672Z"
   },
   {
    "duration": 10,
    "start_time": "2023-02-15T11:15:36.728Z"
   },
   {
    "duration": 20,
    "start_time": "2023-02-15T11:15:36.741Z"
   },
   {
    "duration": 15,
    "start_time": "2023-02-15T11:15:36.763Z"
   },
   {
    "duration": 51,
    "start_time": "2023-02-15T11:15:36.780Z"
   },
   {
    "duration": 24,
    "start_time": "2023-02-15T11:15:36.833Z"
   },
   {
    "duration": 14,
    "start_time": "2023-02-15T11:15:36.859Z"
   },
   {
    "duration": 22,
    "start_time": "2023-02-15T11:15:36.875Z"
   },
   {
    "duration": 22,
    "start_time": "2023-02-15T11:15:36.901Z"
   },
   {
    "duration": 31,
    "start_time": "2023-02-15T11:15:36.925Z"
   },
   {
    "duration": 13,
    "start_time": "2023-02-15T11:15:36.958Z"
   },
   {
    "duration": 11,
    "start_time": "2023-02-15T11:15:36.973Z"
   },
   {
    "duration": 10,
    "start_time": "2023-02-15T11:15:36.986Z"
   },
   {
    "duration": 15,
    "start_time": "2023-02-15T11:15:36.998Z"
   },
   {
    "duration": 349,
    "start_time": "2023-02-15T11:15:37.015Z"
   },
   {
    "duration": 249,
    "start_time": "2023-02-15T11:15:37.365Z"
   },
   {
    "duration": 223,
    "start_time": "2023-02-15T11:15:37.616Z"
   },
   {
    "duration": 350,
    "start_time": "2023-02-15T11:15:37.842Z"
   },
   {
    "duration": 259,
    "start_time": "2023-02-15T11:15:38.195Z"
   },
   {
    "duration": 309,
    "start_time": "2023-02-15T11:15:38.456Z"
   },
   {
    "duration": 12,
    "start_time": "2023-02-15T11:15:38.767Z"
   },
   {
    "duration": 151,
    "start_time": "2023-02-15T11:15:38.781Z"
   },
   {
    "duration": 5,
    "start_time": "2023-02-15T11:15:38.938Z"
   },
   {
    "duration": 161,
    "start_time": "2023-02-15T11:15:38.945Z"
   },
   {
    "duration": 9,
    "start_time": "2023-02-15T11:15:39.108Z"
   },
   {
    "duration": 21,
    "start_time": "2023-02-15T11:15:39.119Z"
   },
   {
    "duration": 241,
    "start_time": "2023-02-15T11:15:39.143Z"
   },
   {
    "duration": 188,
    "start_time": "2023-02-15T11:15:39.387Z"
   },
   {
    "duration": 11,
    "start_time": "2023-02-15T11:15:39.577Z"
   },
   {
    "duration": 28,
    "start_time": "2023-02-15T11:15:39.589Z"
   },
   {
    "duration": 18,
    "start_time": "2023-02-15T11:15:39.619Z"
   },
   {
    "duration": 10,
    "start_time": "2023-02-15T11:16:45.871Z"
   },
   {
    "duration": 6,
    "start_time": "2023-02-15T11:16:50.166Z"
   },
   {
    "duration": 31,
    "start_time": "2023-02-15T11:17:15.064Z"
   },
   {
    "duration": 21,
    "start_time": "2023-02-15T11:19:49.558Z"
   },
   {
    "duration": 4,
    "start_time": "2023-02-15T12:01:49.358Z"
   },
   {
    "duration": 38,
    "start_time": "2023-02-15T12:01:49.365Z"
   },
   {
    "duration": 11,
    "start_time": "2023-02-15T12:01:49.405Z"
   },
   {
    "duration": 14,
    "start_time": "2023-02-15T12:01:49.418Z"
   },
   {
    "duration": 14,
    "start_time": "2023-02-15T12:01:49.434Z"
   },
   {
    "duration": 69,
    "start_time": "2023-02-15T12:01:49.450Z"
   },
   {
    "duration": 22,
    "start_time": "2023-02-15T12:01:49.521Z"
   },
   {
    "duration": 11,
    "start_time": "2023-02-15T12:01:49.545Z"
   },
   {
    "duration": 12,
    "start_time": "2023-02-15T12:01:49.558Z"
   },
   {
    "duration": 9,
    "start_time": "2023-02-15T12:01:49.573Z"
   },
   {
    "duration": 27,
    "start_time": "2023-02-15T12:01:49.584Z"
   },
   {
    "duration": 12,
    "start_time": "2023-02-15T12:01:49.613Z"
   },
   {
    "duration": 5,
    "start_time": "2023-02-15T12:01:49.638Z"
   },
   {
    "duration": 19,
    "start_time": "2023-02-15T12:01:49.645Z"
   },
   {
    "duration": 24,
    "start_time": "2023-02-15T12:01:49.666Z"
   },
   {
    "duration": 334,
    "start_time": "2023-02-15T12:01:49.692Z"
   },
   {
    "duration": 356,
    "start_time": "2023-02-15T12:01:50.028Z"
   },
   {
    "duration": 242,
    "start_time": "2023-02-15T12:01:50.386Z"
   },
   {
    "duration": 366,
    "start_time": "2023-02-15T12:01:50.630Z"
   },
   {
    "duration": 287,
    "start_time": "2023-02-15T12:01:50.998Z"
   },
   {
    "duration": 404,
    "start_time": "2023-02-15T12:01:51.287Z"
   },
   {
    "duration": 12,
    "start_time": "2023-02-15T12:01:51.693Z"
   },
   {
    "duration": 169,
    "start_time": "2023-02-15T12:01:51.707Z"
   },
   {
    "duration": 4,
    "start_time": "2023-02-15T12:01:51.878Z"
   },
   {
    "duration": 190,
    "start_time": "2023-02-15T12:01:51.884Z"
   },
   {
    "duration": 9,
    "start_time": "2023-02-15T12:01:52.076Z"
   },
   {
    "duration": 21,
    "start_time": "2023-02-15T12:01:52.087Z"
   },
   {
    "duration": 295,
    "start_time": "2023-02-15T12:01:52.112Z"
   },
   {
    "duration": 241,
    "start_time": "2023-02-15T12:01:52.408Z"
   },
   {
    "duration": 15,
    "start_time": "2023-02-15T12:01:52.651Z"
   },
   {
    "duration": 33,
    "start_time": "2023-02-15T12:01:52.670Z"
   },
   {
    "duration": 59,
    "start_time": "2023-02-15T12:01:52.705Z"
   },
   {
    "duration": 39,
    "start_time": "2023-02-15T12:01:52.767Z"
   },
   {
    "duration": 14,
    "start_time": "2023-02-15T12:01:52.808Z"
   },
   {
    "duration": 3,
    "start_time": "2023-02-15T12:10:57.369Z"
   },
   {
    "duration": 62,
    "start_time": "2023-02-15T12:10:57.375Z"
   },
   {
    "duration": 10,
    "start_time": "2023-02-15T12:10:57.439Z"
   },
   {
    "duration": 12,
    "start_time": "2023-02-15T12:10:57.451Z"
   },
   {
    "duration": 29,
    "start_time": "2023-02-15T12:10:57.465Z"
   },
   {
    "duration": 72,
    "start_time": "2023-02-15T12:10:57.496Z"
   },
   {
    "duration": 23,
    "start_time": "2023-02-15T12:10:57.570Z"
   },
   {
    "duration": 40,
    "start_time": "2023-02-15T12:10:57.594Z"
   },
   {
    "duration": 34,
    "start_time": "2023-02-15T12:10:57.635Z"
   },
   {
    "duration": 23,
    "start_time": "2023-02-15T12:10:57.672Z"
   },
   {
    "duration": 50,
    "start_time": "2023-02-15T12:10:57.697Z"
   },
   {
    "duration": 13,
    "start_time": "2023-02-15T12:10:57.749Z"
   },
   {
    "duration": 18,
    "start_time": "2023-02-15T12:10:57.764Z"
   },
   {
    "duration": 17,
    "start_time": "2023-02-15T12:10:57.784Z"
   },
   {
    "duration": 14,
    "start_time": "2023-02-15T12:10:57.803Z"
   },
   {
    "duration": 320,
    "start_time": "2023-02-15T12:10:57.819Z"
   },
   {
    "duration": 230,
    "start_time": "2023-02-15T12:10:58.143Z"
   },
   {
    "duration": 221,
    "start_time": "2023-02-15T12:10:58.375Z"
   },
   {
    "duration": 385,
    "start_time": "2023-02-15T12:10:58.598Z"
   },
   {
    "duration": 265,
    "start_time": "2023-02-15T12:10:58.985Z"
   },
   {
    "duration": 424,
    "start_time": "2023-02-15T12:10:59.252Z"
   },
   {
    "duration": 15,
    "start_time": "2023-02-15T12:10:59.678Z"
   },
   {
    "duration": 157,
    "start_time": "2023-02-15T12:10:59.695Z"
   },
   {
    "duration": 5,
    "start_time": "2023-02-15T12:10:59.854Z"
   },
   {
    "duration": 177,
    "start_time": "2023-02-15T12:10:59.861Z"
   },
   {
    "duration": 8,
    "start_time": "2023-02-15T12:11:00.040Z"
   },
   {
    "duration": 21,
    "start_time": "2023-02-15T12:11:00.050Z"
   },
   {
    "duration": 277,
    "start_time": "2023-02-15T12:11:00.076Z"
   },
   {
    "duration": 183,
    "start_time": "2023-02-15T12:11:00.355Z"
   },
   {
    "duration": 14,
    "start_time": "2023-02-15T12:11:00.541Z"
   },
   {
    "duration": 55,
    "start_time": "2023-02-15T12:11:00.557Z"
   },
   {
    "duration": 93,
    "start_time": "2023-02-15T12:11:00.615Z"
   },
   {
    "duration": 67,
    "start_time": "2023-02-15T12:11:00.710Z"
   },
   {
    "duration": 37,
    "start_time": "2023-02-15T12:11:00.779Z"
   },
   {
    "duration": 1224,
    "start_time": "2023-02-16T08:33:49.542Z"
   },
   {
    "duration": 144,
    "start_time": "2023-02-16T08:33:50.768Z"
   },
   {
    "duration": 9,
    "start_time": "2023-02-16T08:33:50.915Z"
   },
   {
    "duration": 22,
    "start_time": "2023-02-16T08:33:50.925Z"
   },
   {
    "duration": 23,
    "start_time": "2023-02-16T08:33:50.949Z"
   },
   {
    "duration": 98,
    "start_time": "2023-02-16T08:33:50.974Z"
   },
   {
    "duration": 21,
    "start_time": "2023-02-16T08:33:51.074Z"
   },
   {
    "duration": 30,
    "start_time": "2023-02-16T08:33:51.097Z"
   },
   {
    "duration": 9,
    "start_time": "2023-02-16T08:33:51.130Z"
   },
   {
    "duration": 15,
    "start_time": "2023-02-16T08:33:51.142Z"
   },
   {
    "duration": 81,
    "start_time": "2023-02-16T08:33:51.159Z"
   },
   {
    "duration": 13,
    "start_time": "2023-02-16T08:33:51.242Z"
   },
   {
    "duration": 14,
    "start_time": "2023-02-16T08:33:51.257Z"
   },
   {
    "duration": 9,
    "start_time": "2023-02-16T08:33:51.272Z"
   },
   {
    "duration": 19,
    "start_time": "2023-02-16T08:33:51.283Z"
   },
   {
    "duration": 357,
    "start_time": "2023-02-16T08:33:51.306Z"
   },
   {
    "duration": 301,
    "start_time": "2023-02-16T08:33:51.665Z"
   },
   {
    "duration": 222,
    "start_time": "2023-02-16T08:33:51.967Z"
   },
   {
    "duration": 364,
    "start_time": "2023-02-16T08:33:52.190Z"
   },
   {
    "duration": 240,
    "start_time": "2023-02-16T08:33:52.555Z"
   },
   {
    "duration": 315,
    "start_time": "2023-02-16T08:33:52.799Z"
   },
   {
    "duration": 13,
    "start_time": "2023-02-16T08:33:53.115Z"
   },
   {
    "duration": 135,
    "start_time": "2023-02-16T08:33:53.131Z"
   },
   {
    "duration": 4,
    "start_time": "2023-02-16T08:33:53.268Z"
   },
   {
    "duration": 155,
    "start_time": "2023-02-16T08:33:53.274Z"
   },
   {
    "duration": 6,
    "start_time": "2023-02-16T08:33:53.431Z"
   },
   {
    "duration": 8,
    "start_time": "2023-02-16T08:33:53.439Z"
   },
   {
    "duration": 244,
    "start_time": "2023-02-16T08:33:53.450Z"
   },
   {
    "duration": 185,
    "start_time": "2023-02-16T08:33:53.699Z"
   },
   {
    "duration": 25,
    "start_time": "2023-02-16T08:33:53.887Z"
   },
   {
    "duration": 26,
    "start_time": "2023-02-16T08:33:53.915Z"
   },
   {
    "duration": 25,
    "start_time": "2023-02-16T08:33:53.943Z"
   },
   {
    "duration": 36,
    "start_time": "2023-02-16T08:33:53.970Z"
   },
   {
    "duration": 34,
    "start_time": "2023-02-16T08:33:54.008Z"
   },
   {
    "duration": 12,
    "start_time": "2023-02-16T08:42:49.651Z"
   },
   {
    "duration": 18,
    "start_time": "2023-02-16T08:44:51.295Z"
   },
   {
    "duration": 17,
    "start_time": "2023-02-16T08:45:31.692Z"
   },
   {
    "duration": 13,
    "start_time": "2023-02-16T08:47:14.713Z"
   },
   {
    "duration": 1661,
    "start_time": "2023-02-16T10:00:11.960Z"
   },
   {
    "duration": 241,
    "start_time": "2023-02-16T10:00:13.628Z"
   },
   {
    "duration": 10,
    "start_time": "2023-02-16T10:00:13.871Z"
   },
   {
    "duration": 25,
    "start_time": "2023-02-16T10:00:13.883Z"
   },
   {
    "duration": 64,
    "start_time": "2023-02-16T10:00:13.911Z"
   },
   {
    "duration": 276,
    "start_time": "2023-02-16T10:00:13.977Z"
   },
   {
    "duration": 30,
    "start_time": "2023-02-16T10:00:14.255Z"
   },
   {
    "duration": 5,
    "start_time": "2023-02-16T10:00:14.287Z"
   },
   {
    "duration": 67,
    "start_time": "2023-02-16T10:00:14.293Z"
   },
   {
    "duration": 17,
    "start_time": "2023-02-16T10:00:14.363Z"
   },
   {
    "duration": 166,
    "start_time": "2023-02-16T10:00:14.382Z"
   },
   {
    "duration": 13,
    "start_time": "2023-02-16T10:00:14.551Z"
   },
   {
    "duration": 5,
    "start_time": "2023-02-16T10:00:14.566Z"
   },
   {
    "duration": 9,
    "start_time": "2023-02-16T10:00:14.573Z"
   },
   {
    "duration": 14,
    "start_time": "2023-02-16T10:00:14.583Z"
   },
   {
    "duration": 444,
    "start_time": "2023-02-16T10:00:14.599Z"
   },
   {
    "duration": 394,
    "start_time": "2023-02-16T10:00:15.045Z"
   },
   {
    "duration": 270,
    "start_time": "2023-02-16T10:00:15.442Z"
   },
   {
    "duration": 534,
    "start_time": "2023-02-16T10:00:15.718Z"
   },
   {
    "duration": 382,
    "start_time": "2023-02-16T10:00:16.258Z"
   },
   {
    "duration": 420,
    "start_time": "2023-02-16T10:00:16.646Z"
   },
   {
    "duration": 23,
    "start_time": "2023-02-16T10:00:17.072Z"
   },
   {
    "duration": 284,
    "start_time": "2023-02-16T10:00:17.105Z"
   },
   {
    "duration": 8,
    "start_time": "2023-02-16T10:00:17.392Z"
   },
   {
    "duration": 240,
    "start_time": "2023-02-16T10:00:17.405Z"
   },
   {
    "duration": 11,
    "start_time": "2023-02-16T10:00:17.647Z"
   },
   {
    "duration": 20,
    "start_time": "2023-02-16T10:00:17.661Z"
   },
   {
    "duration": 401,
    "start_time": "2023-02-16T10:00:17.685Z"
   },
   {
    "duration": 206,
    "start_time": "2023-02-16T10:00:18.087Z"
   },
   {
    "duration": 22,
    "start_time": "2023-02-16T10:00:18.301Z"
   },
   {
    "duration": 30,
    "start_time": "2023-02-16T10:00:18.325Z"
   },
   {
    "duration": 11,
    "start_time": "2023-02-16T10:00:18.357Z"
   },
   {
    "duration": 68,
    "start_time": "2023-02-16T10:00:18.370Z"
   },
   {
    "duration": 45,
    "start_time": "2023-02-16T10:00:18.440Z"
   },
   {
    "duration": 6,
    "start_time": "2023-02-16T10:02:50.464Z"
   },
   {
    "duration": 9,
    "start_time": "2023-02-16T10:03:14.400Z"
   },
   {
    "duration": 161,
    "start_time": "2023-02-16T10:04:07.177Z"
   },
   {
    "duration": 5,
    "start_time": "2023-02-16T10:04:41.457Z"
   },
   {
    "duration": 92,
    "start_time": "2023-02-16T10:09:26.687Z"
   },
   {
    "duration": 12,
    "start_time": "2023-02-16T10:10:11.709Z"
   },
   {
    "duration": 128,
    "start_time": "2023-02-16T10:12:03.035Z"
   },
   {
    "duration": 11,
    "start_time": "2023-02-16T10:12:16.278Z"
   },
   {
    "duration": 11,
    "start_time": "2023-02-16T10:12:40.246Z"
   },
   {
    "duration": 21,
    "start_time": "2023-02-16T10:14:26.157Z"
   },
   {
    "duration": 2143,
    "start_time": "2023-02-16T10:14:45.245Z"
   },
   {
    "duration": 13,
    "start_time": "2023-02-16T10:15:58.068Z"
   },
   {
    "duration": 15,
    "start_time": "2023-02-16T10:16:21.970Z"
   },
   {
    "duration": 92,
    "start_time": "2023-02-16T10:19:59.857Z"
   },
   {
    "duration": 8,
    "start_time": "2023-02-16T10:20:04.916Z"
   },
   {
    "duration": 19,
    "start_time": "2023-02-16T10:20:50.095Z"
   },
   {
    "duration": 14,
    "start_time": "2023-02-16T10:21:48.693Z"
   },
   {
    "duration": 7,
    "start_time": "2023-02-16T10:22:35.154Z"
   },
   {
    "duration": 21,
    "start_time": "2023-02-16T10:23:02.555Z"
   },
   {
    "duration": 105,
    "start_time": "2023-02-16T10:23:27.439Z"
   },
   {
    "duration": 16,
    "start_time": "2023-02-16T10:23:47.667Z"
   },
   {
    "duration": 21,
    "start_time": "2023-02-16T10:24:08.839Z"
   },
   {
    "duration": 22,
    "start_time": "2023-02-16T10:24:21.557Z"
   },
   {
    "duration": 18,
    "start_time": "2023-02-16T10:24:53.553Z"
   },
   {
    "duration": 22,
    "start_time": "2023-02-16T10:24:59.141Z"
   },
   {
    "duration": 13,
    "start_time": "2023-02-16T10:35:30.243Z"
   },
   {
    "duration": 9,
    "start_time": "2023-02-16T10:35:45.045Z"
   },
   {
    "duration": 14,
    "start_time": "2023-02-16T10:36:02.536Z"
   },
   {
    "duration": 9,
    "start_time": "2023-02-16T10:36:20.533Z"
   },
   {
    "duration": 13,
    "start_time": "2023-02-16T10:37:09.542Z"
   },
   {
    "duration": 11,
    "start_time": "2023-02-16T10:41:34.753Z"
   },
   {
    "duration": 170,
    "start_time": "2023-02-16T10:47:15.268Z"
   },
   {
    "duration": 173,
    "start_time": "2023-02-16T10:47:42.572Z"
   },
   {
    "duration": 180,
    "start_time": "2023-02-16T10:50:30.235Z"
   },
   {
    "duration": 14,
    "start_time": "2023-02-16T10:51:21.731Z"
   },
   {
    "duration": 11,
    "start_time": "2023-02-16T10:51:28.839Z"
   },
   {
    "duration": 16,
    "start_time": "2023-02-16T10:56:35.947Z"
   },
   {
    "duration": 28,
    "start_time": "2023-02-16T10:58:01.589Z"
   },
   {
    "duration": 15,
    "start_time": "2023-02-16T10:58:29.623Z"
   },
   {
    "duration": 7,
    "start_time": "2023-02-16T10:59:15.538Z"
   },
   {
    "duration": 5,
    "start_time": "2023-02-16T11:00:08.050Z"
   },
   {
    "duration": 19,
    "start_time": "2023-02-16T11:00:38.827Z"
   },
   {
    "duration": 223,
    "start_time": "2023-02-16T11:00:54.118Z"
   },
   {
    "duration": 12,
    "start_time": "2023-02-16T11:01:15.644Z"
   },
   {
    "duration": 175,
    "start_time": "2023-02-16T11:23:35.438Z"
   },
   {
    "duration": 197,
    "start_time": "2023-02-16T11:23:58.085Z"
   },
   {
    "duration": 212,
    "start_time": "2023-02-16T11:24:08.028Z"
   },
   {
    "duration": 237,
    "start_time": "2023-02-16T11:25:09.634Z"
   },
   {
    "duration": 224,
    "start_time": "2023-02-16T11:26:03.121Z"
   },
   {
    "duration": 207,
    "start_time": "2023-02-16T11:26:42.150Z"
   },
   {
    "duration": 7,
    "start_time": "2023-02-16T11:29:52.418Z"
   },
   {
    "duration": 284,
    "start_time": "2023-02-16T11:31:48.353Z"
   },
   {
    "duration": 298,
    "start_time": "2023-02-16T11:32:08.526Z"
   },
   {
    "duration": 280,
    "start_time": "2023-02-16T11:33:02.484Z"
   },
   {
    "duration": 278,
    "start_time": "2023-02-16T11:33:15.386Z"
   },
   {
    "duration": 17,
    "start_time": "2023-02-16T11:34:08.243Z"
   },
   {
    "duration": 13,
    "start_time": "2023-02-16T11:34:40.232Z"
   },
   {
    "duration": 3,
    "start_time": "2023-02-16T11:35:17.260Z"
   },
   {
    "duration": 74,
    "start_time": "2023-02-16T11:35:17.266Z"
   },
   {
    "duration": 14,
    "start_time": "2023-02-16T11:35:17.343Z"
   },
   {
    "duration": 20,
    "start_time": "2023-02-16T11:35:17.360Z"
   },
   {
    "duration": 77,
    "start_time": "2023-02-16T11:35:17.383Z"
   },
   {
    "duration": 84,
    "start_time": "2023-02-16T11:35:17.462Z"
   },
   {
    "duration": 30,
    "start_time": "2023-02-16T11:35:17.549Z"
   },
   {
    "duration": 105,
    "start_time": "2023-02-16T11:35:17.581Z"
   },
   {
    "duration": 60,
    "start_time": "2023-02-16T11:35:17.688Z"
   },
   {
    "duration": 38,
    "start_time": "2023-02-16T11:35:17.750Z"
   },
   {
    "duration": 77,
    "start_time": "2023-02-16T11:35:17.792Z"
   },
   {
    "duration": 16,
    "start_time": "2023-02-16T11:35:17.872Z"
   },
   {
    "duration": 61,
    "start_time": "2023-02-16T11:35:17.890Z"
   },
   {
    "duration": 6,
    "start_time": "2023-02-16T11:35:17.953Z"
   },
   {
    "duration": 26,
    "start_time": "2023-02-16T11:35:17.961Z"
   },
   {
    "duration": 91,
    "start_time": "2023-02-16T11:35:17.990Z"
   },
   {
    "duration": 12,
    "start_time": "2023-02-16T11:35:18.083Z"
   },
   {
    "duration": 425,
    "start_time": "2023-02-16T11:35:18.097Z"
   },
   {
    "duration": 307,
    "start_time": "2023-02-16T11:35:18.524Z"
   },
   {
    "duration": 255,
    "start_time": "2023-02-16T11:35:18.834Z"
   },
   {
    "duration": 394,
    "start_time": "2023-02-16T11:35:19.096Z"
   },
   {
    "duration": 310,
    "start_time": "2023-02-16T11:35:19.494Z"
   },
   {
    "duration": 351,
    "start_time": "2023-02-16T11:35:19.811Z"
   },
   {
    "duration": 16,
    "start_time": "2023-02-16T11:35:20.165Z"
   },
   {
    "duration": 315,
    "start_time": "2023-02-16T11:35:20.197Z"
   },
   {
    "duration": 8,
    "start_time": "2023-02-16T11:35:20.520Z"
   },
   {
    "duration": 199,
    "start_time": "2023-02-16T11:35:20.530Z"
   },
   {
    "duration": 8,
    "start_time": "2023-02-16T11:35:20.733Z"
   },
   {
    "duration": 35,
    "start_time": "2023-02-16T11:35:20.745Z"
   },
   {
    "duration": 230,
    "start_time": "2023-02-16T11:35:20.783Z"
   },
   {
    "duration": 9,
    "start_time": "2023-02-16T11:35:21.017Z"
   },
   {
    "duration": 24,
    "start_time": "2023-02-16T11:35:21.028Z"
   },
   {
    "duration": 229,
    "start_time": "2023-02-16T11:35:21.054Z"
   },
   {
    "duration": 35,
    "start_time": "2023-02-16T11:35:21.292Z"
   },
   {
    "duration": 34,
    "start_time": "2023-02-16T11:35:21.329Z"
   },
   {
    "duration": 30,
    "start_time": "2023-02-16T11:35:21.366Z"
   },
   {
    "duration": 75,
    "start_time": "2023-02-16T11:35:21.399Z"
   },
   {
    "duration": 21,
    "start_time": "2023-02-16T11:35:21.476Z"
   },
   {
    "duration": 17,
    "start_time": "2023-02-16T11:38:04.744Z"
   },
   {
    "duration": 20,
    "start_time": "2023-02-16T11:40:26.414Z"
   },
   {
    "duration": 17,
    "start_time": "2023-02-16T11:40:38.870Z"
   },
   {
    "duration": 14,
    "start_time": "2023-02-16T11:42:49.156Z"
   },
   {
    "duration": 36,
    "start_time": "2023-02-16T11:43:36.211Z"
   },
   {
    "duration": 19,
    "start_time": "2023-02-16T11:44:15.236Z"
   },
   {
    "duration": 18,
    "start_time": "2023-02-16T11:44:42.109Z"
   },
   {
    "duration": 3,
    "start_time": "2023-02-16T11:50:26.981Z"
   },
   {
    "duration": 70,
    "start_time": "2023-02-16T11:50:26.987Z"
   },
   {
    "duration": 11,
    "start_time": "2023-02-16T11:50:27.059Z"
   },
   {
    "duration": 25,
    "start_time": "2023-02-16T11:50:27.072Z"
   },
   {
    "duration": 24,
    "start_time": "2023-02-16T11:50:27.101Z"
   },
   {
    "duration": 57,
    "start_time": "2023-02-16T11:50:27.127Z"
   },
   {
    "duration": 32,
    "start_time": "2023-02-16T11:50:27.186Z"
   },
   {
    "duration": 5,
    "start_time": "2023-02-16T11:50:27.221Z"
   },
   {
    "duration": 12,
    "start_time": "2023-02-16T11:50:27.228Z"
   },
   {
    "duration": 22,
    "start_time": "2023-02-16T11:50:27.242Z"
   },
   {
    "duration": 34,
    "start_time": "2023-02-16T11:50:27.267Z"
   },
   {
    "duration": 12,
    "start_time": "2023-02-16T11:50:27.303Z"
   },
   {
    "duration": 9,
    "start_time": "2023-02-16T11:50:27.317Z"
   },
   {
    "duration": 21,
    "start_time": "2023-02-16T11:50:27.328Z"
   },
   {
    "duration": 18,
    "start_time": "2023-02-16T11:50:27.351Z"
   },
   {
    "duration": 42,
    "start_time": "2023-02-16T11:50:27.371Z"
   },
   {
    "duration": 13,
    "start_time": "2023-02-16T11:50:27.415Z"
   },
   {
    "duration": 300,
    "start_time": "2023-02-16T11:50:27.430Z"
   },
   {
    "duration": 222,
    "start_time": "2023-02-16T11:50:27.732Z"
   },
   {
    "duration": 223,
    "start_time": "2023-02-16T11:50:27.957Z"
   },
   {
    "duration": 334,
    "start_time": "2023-02-16T11:50:28.181Z"
   },
   {
    "duration": 253,
    "start_time": "2023-02-16T11:50:28.517Z"
   },
   {
    "duration": 350,
    "start_time": "2023-02-16T11:50:28.772Z"
   },
   {
    "duration": 14,
    "start_time": "2023-02-16T11:50:29.124Z"
   },
   {
    "duration": 155,
    "start_time": "2023-02-16T11:50:29.140Z"
   },
   {
    "duration": 13,
    "start_time": "2023-02-16T11:50:29.297Z"
   },
   {
    "duration": 170,
    "start_time": "2023-02-16T11:50:29.312Z"
   },
   {
    "duration": 19,
    "start_time": "2023-02-16T11:50:29.484Z"
   },
   {
    "duration": 15,
    "start_time": "2023-02-16T11:50:29.507Z"
   },
   {
    "duration": 149,
    "start_time": "2023-02-16T11:50:29.524Z"
   },
   {
    "duration": 22,
    "start_time": "2023-02-16T11:50:29.675Z"
   },
   {
    "duration": 9,
    "start_time": "2023-02-16T11:50:29.698Z"
   },
   {
    "duration": 259,
    "start_time": "2023-02-16T11:50:29.709Z"
   },
   {
    "duration": 12,
    "start_time": "2023-02-16T11:50:29.970Z"
   },
   {
    "duration": 20,
    "start_time": "2023-02-16T11:50:29.992Z"
   },
   {
    "duration": 20,
    "start_time": "2023-02-16T11:50:30.015Z"
   },
   {
    "duration": 31,
    "start_time": "2023-02-16T11:50:30.037Z"
   },
   {
    "duration": 31,
    "start_time": "2023-02-16T11:50:30.070Z"
   },
   {
    "duration": 3,
    "start_time": "2023-02-16T12:10:14.772Z"
   },
   {
    "duration": 44,
    "start_time": "2023-02-16T12:10:14.777Z"
   },
   {
    "duration": 13,
    "start_time": "2023-02-16T12:10:14.823Z"
   },
   {
    "duration": 23,
    "start_time": "2023-02-16T12:10:14.838Z"
   },
   {
    "duration": 36,
    "start_time": "2023-02-16T12:10:14.864Z"
   },
   {
    "duration": 70,
    "start_time": "2023-02-16T12:10:14.902Z"
   },
   {
    "duration": 25,
    "start_time": "2023-02-16T12:10:14.973Z"
   },
   {
    "duration": 47,
    "start_time": "2023-02-16T12:10:15.000Z"
   },
   {
    "duration": 9,
    "start_time": "2023-02-16T12:10:15.049Z"
   },
   {
    "duration": 18,
    "start_time": "2023-02-16T12:10:15.060Z"
   },
   {
    "duration": 50,
    "start_time": "2023-02-16T12:10:15.081Z"
   },
   {
    "duration": 16,
    "start_time": "2023-02-16T12:10:15.134Z"
   },
   {
    "duration": 29,
    "start_time": "2023-02-16T12:10:15.152Z"
   },
   {
    "duration": 42,
    "start_time": "2023-02-16T12:10:15.183Z"
   },
   {
    "duration": 15,
    "start_time": "2023-02-16T12:10:15.227Z"
   },
   {
    "duration": 29,
    "start_time": "2023-02-16T12:10:15.244Z"
   },
   {
    "duration": 10,
    "start_time": "2023-02-16T12:10:15.275Z"
   },
   {
    "duration": 366,
    "start_time": "2023-02-16T12:10:15.286Z"
   },
   {
    "duration": 288,
    "start_time": "2023-02-16T12:10:15.656Z"
   },
   {
    "duration": 286,
    "start_time": "2023-02-16T12:10:15.947Z"
   },
   {
    "duration": 380,
    "start_time": "2023-02-16T12:10:16.236Z"
   },
   {
    "duration": 289,
    "start_time": "2023-02-16T12:10:16.618Z"
   },
   {
    "duration": 307,
    "start_time": "2023-02-16T12:10:16.910Z"
   },
   {
    "duration": 15,
    "start_time": "2023-02-16T12:10:17.219Z"
   },
   {
    "duration": 176,
    "start_time": "2023-02-16T12:10:17.236Z"
   },
   {
    "duration": 6,
    "start_time": "2023-02-16T12:10:17.415Z"
   },
   {
    "duration": 183,
    "start_time": "2023-02-16T12:10:17.423Z"
   },
   {
    "duration": 8,
    "start_time": "2023-02-16T12:10:17.608Z"
   },
   {
    "duration": 8,
    "start_time": "2023-02-16T12:10:17.619Z"
   },
   {
    "duration": 201,
    "start_time": "2023-02-16T12:10:17.629Z"
   },
   {
    "duration": 10,
    "start_time": "2023-02-16T12:10:17.832Z"
   },
   {
    "duration": 198,
    "start_time": "2023-02-16T12:10:17.843Z"
   },
   {
    "duration": 13,
    "start_time": "2023-02-16T12:10:18.043Z"
   },
   {
    "duration": 44,
    "start_time": "2023-02-16T12:10:18.057Z"
   },
   {
    "duration": 5,
    "start_time": "2023-02-16T12:10:18.110Z"
   },
   {
    "duration": 42,
    "start_time": "2023-02-16T12:10:18.117Z"
   },
   {
    "duration": 39,
    "start_time": "2023-02-16T12:10:18.161Z"
   },
   {
    "duration": 5,
    "start_time": "2023-02-16T12:15:56.571Z"
   },
   {
    "duration": 86,
    "start_time": "2023-02-16T12:15:56.579Z"
   },
   {
    "duration": 15,
    "start_time": "2023-02-16T12:15:56.667Z"
   },
   {
    "duration": 49,
    "start_time": "2023-02-16T12:15:56.685Z"
   },
   {
    "duration": 21,
    "start_time": "2023-02-16T12:15:56.736Z"
   },
   {
    "duration": 62,
    "start_time": "2023-02-16T12:15:56.759Z"
   },
   {
    "duration": 22,
    "start_time": "2023-02-16T12:15:56.825Z"
   },
   {
    "duration": 16,
    "start_time": "2023-02-16T12:15:56.849Z"
   },
   {
    "duration": 13,
    "start_time": "2023-02-16T12:15:56.867Z"
   },
   {
    "duration": 41,
    "start_time": "2023-02-16T12:15:56.883Z"
   },
   {
    "duration": 35,
    "start_time": "2023-02-16T12:15:56.926Z"
   },
   {
    "duration": 13,
    "start_time": "2023-02-16T12:15:56.963Z"
   },
   {
    "duration": 8,
    "start_time": "2023-02-16T12:15:56.978Z"
   },
   {
    "duration": 31,
    "start_time": "2023-02-16T12:15:56.988Z"
   },
   {
    "duration": 16,
    "start_time": "2023-02-16T12:15:57.022Z"
   },
   {
    "duration": 25,
    "start_time": "2023-02-16T12:15:57.041Z"
   },
   {
    "duration": 13,
    "start_time": "2023-02-16T12:15:57.068Z"
   },
   {
    "duration": 383,
    "start_time": "2023-02-16T12:15:57.083Z"
   },
   {
    "duration": 252,
    "start_time": "2023-02-16T12:15:57.469Z"
   },
   {
    "duration": 226,
    "start_time": "2023-02-16T12:15:57.722Z"
   },
   {
    "duration": 491,
    "start_time": "2023-02-16T12:15:57.950Z"
   },
   {
    "duration": 276,
    "start_time": "2023-02-16T12:15:58.443Z"
   },
   {
    "duration": 406,
    "start_time": "2023-02-16T12:15:58.721Z"
   },
   {
    "duration": 20,
    "start_time": "2023-02-16T12:15:59.130Z"
   },
   {
    "duration": 190,
    "start_time": "2023-02-16T12:15:59.152Z"
   },
   {
    "duration": 6,
    "start_time": "2023-02-16T12:15:59.355Z"
   },
   {
    "duration": 175,
    "start_time": "2023-02-16T12:15:59.368Z"
   },
   {
    "duration": 10,
    "start_time": "2023-02-16T12:15:59.547Z"
   },
   {
    "duration": 8,
    "start_time": "2023-02-16T12:15:59.560Z"
   },
   {
    "duration": 232,
    "start_time": "2023-02-16T12:15:59.570Z"
   },
   {
    "duration": 9,
    "start_time": "2023-02-16T12:15:59.804Z"
   },
   {
    "duration": 209,
    "start_time": "2023-02-16T12:15:59.815Z"
   },
   {
    "duration": 13,
    "start_time": "2023-02-16T12:16:00.026Z"
   },
   {
    "duration": 21,
    "start_time": "2023-02-16T12:16:00.041Z"
   },
   {
    "duration": 34,
    "start_time": "2023-02-16T12:16:00.065Z"
   },
   {
    "duration": 64,
    "start_time": "2023-02-16T12:16:00.102Z"
   },
   {
    "duration": 22,
    "start_time": "2023-02-16T12:16:00.168Z"
   },
   {
    "duration": 1149,
    "start_time": "2023-02-17T07:43:53.527Z"
   },
   {
    "duration": 155,
    "start_time": "2023-02-17T07:43:54.678Z"
   },
   {
    "duration": 10,
    "start_time": "2023-02-17T07:43:54.835Z"
   },
   {
    "duration": 17,
    "start_time": "2023-02-17T07:43:54.849Z"
   },
   {
    "duration": 10,
    "start_time": "2023-02-17T07:43:54.868Z"
   },
   {
    "duration": 160,
    "start_time": "2023-02-17T07:43:54.880Z"
   },
   {
    "duration": 21,
    "start_time": "2023-02-17T07:43:55.042Z"
   },
   {
    "duration": 14,
    "start_time": "2023-02-17T07:43:55.065Z"
   },
   {
    "duration": 13,
    "start_time": "2023-02-17T07:43:55.081Z"
   },
   {
    "duration": 11,
    "start_time": "2023-02-17T07:43:55.096Z"
   },
   {
    "duration": 121,
    "start_time": "2023-02-17T07:43:55.110Z"
   },
   {
    "duration": 14,
    "start_time": "2023-02-17T07:43:55.233Z"
   },
   {
    "duration": 5,
    "start_time": "2023-02-17T07:43:55.249Z"
   },
   {
    "duration": 6,
    "start_time": "2023-02-17T07:43:55.259Z"
   },
   {
    "duration": 20,
    "start_time": "2023-02-17T07:43:55.267Z"
   },
   {
    "duration": 36,
    "start_time": "2023-02-17T07:43:55.289Z"
   },
   {
    "duration": 13,
    "start_time": "2023-02-17T07:43:55.327Z"
   },
   {
    "duration": 326,
    "start_time": "2023-02-17T07:43:55.343Z"
   },
   {
    "duration": 358,
    "start_time": "2023-02-17T07:43:55.670Z"
   },
   {
    "duration": 216,
    "start_time": "2023-02-17T07:43:56.030Z"
   },
   {
    "duration": 297,
    "start_time": "2023-02-17T07:43:56.248Z"
   },
   {
    "duration": 267,
    "start_time": "2023-02-17T07:43:56.547Z"
   },
   {
    "duration": 369,
    "start_time": "2023-02-17T07:43:56.822Z"
   },
   {
    "duration": 15,
    "start_time": "2023-02-17T07:43:57.193Z"
   },
   {
    "duration": 227,
    "start_time": "2023-02-17T07:43:57.210Z"
   },
   {
    "duration": 10,
    "start_time": "2023-02-17T07:43:57.439Z"
   },
   {
    "duration": 162,
    "start_time": "2023-02-17T07:43:57.451Z"
   },
   {
    "duration": 9,
    "start_time": "2023-02-17T07:43:57.615Z"
   },
   {
    "duration": 22,
    "start_time": "2023-02-17T07:43:57.626Z"
   },
   {
    "duration": 190,
    "start_time": "2023-02-17T07:43:57.650Z"
   },
   {
    "duration": 8,
    "start_time": "2023-02-17T07:43:57.843Z"
   },
   {
    "duration": 192,
    "start_time": "2023-02-17T07:43:57.852Z"
   },
   {
    "duration": 11,
    "start_time": "2023-02-17T07:43:58.046Z"
   },
   {
    "duration": 14,
    "start_time": "2023-02-17T07:43:58.058Z"
   },
   {
    "duration": 6,
    "start_time": "2023-02-17T07:43:58.073Z"
   },
   {
    "duration": 155,
    "start_time": "2023-02-17T07:43:58.080Z"
   },
   {
    "duration": 0,
    "start_time": "2023-02-17T07:43:58.240Z"
   },
   {
    "duration": 5,
    "start_time": "2023-02-17T07:45:23.988Z"
   },
   {
    "duration": 4,
    "start_time": "2023-02-17T07:45:29.298Z"
   },
   {
    "duration": 4,
    "start_time": "2023-02-17T07:45:46.548Z"
   },
   {
    "duration": 12,
    "start_time": "2023-02-17T07:46:06.329Z"
   },
   {
    "duration": 5,
    "start_time": "2023-02-17T07:46:09.574Z"
   },
   {
    "duration": 6,
    "start_time": "2023-02-17T07:46:43.238Z"
   },
   {
    "duration": 1326,
    "start_time": "2023-02-17T12:33:11.806Z"
   },
   {
    "duration": 129,
    "start_time": "2023-02-17T12:33:13.135Z"
   },
   {
    "duration": 8,
    "start_time": "2023-02-17T12:33:13.266Z"
   },
   {
    "duration": 17,
    "start_time": "2023-02-17T12:33:13.276Z"
   },
   {
    "duration": 10,
    "start_time": "2023-02-17T12:33:13.296Z"
   },
   {
    "duration": 78,
    "start_time": "2023-02-17T12:33:13.308Z"
   },
   {
    "duration": 22,
    "start_time": "2023-02-17T12:33:13.388Z"
   },
   {
    "duration": 11,
    "start_time": "2023-02-17T12:33:13.411Z"
   },
   {
    "duration": 9,
    "start_time": "2023-02-17T12:33:13.424Z"
   },
   {
    "duration": 13,
    "start_time": "2023-02-17T12:33:13.436Z"
   },
   {
    "duration": 80,
    "start_time": "2023-02-17T12:33:13.451Z"
   },
   {
    "duration": 13,
    "start_time": "2023-02-17T12:33:13.533Z"
   },
   {
    "duration": 8,
    "start_time": "2023-02-17T12:33:13.548Z"
   },
   {
    "duration": 9,
    "start_time": "2023-02-17T12:33:13.557Z"
   },
   {
    "duration": 12,
    "start_time": "2023-02-17T12:33:13.568Z"
   },
   {
    "duration": 23,
    "start_time": "2023-02-17T12:33:13.581Z"
   },
   {
    "duration": 10,
    "start_time": "2023-02-17T12:33:13.606Z"
   },
   {
    "duration": 312,
    "start_time": "2023-02-17T12:33:13.617Z"
   },
   {
    "duration": 304,
    "start_time": "2023-02-17T12:33:13.930Z"
   },
   {
    "duration": 222,
    "start_time": "2023-02-17T12:33:14.236Z"
   },
   {
    "duration": 394,
    "start_time": "2023-02-17T12:33:14.459Z"
   },
   {
    "duration": 248,
    "start_time": "2023-02-17T12:33:14.855Z"
   },
   {
    "duration": 320,
    "start_time": "2023-02-17T12:33:15.104Z"
   },
   {
    "duration": 13,
    "start_time": "2023-02-17T12:33:15.426Z"
   },
   {
    "duration": 150,
    "start_time": "2023-02-17T12:33:15.441Z"
   },
   {
    "duration": 5,
    "start_time": "2023-02-17T12:33:15.595Z"
   },
   {
    "duration": 155,
    "start_time": "2023-02-17T12:33:15.602Z"
   },
   {
    "duration": 7,
    "start_time": "2023-02-17T12:33:15.760Z"
   },
   {
    "duration": 5,
    "start_time": "2023-02-17T12:33:15.769Z"
   },
   {
    "duration": 172,
    "start_time": "2023-02-17T12:33:15.775Z"
   },
   {
    "duration": 8,
    "start_time": "2023-02-17T12:33:15.949Z"
   },
   {
    "duration": 182,
    "start_time": "2023-02-17T12:33:15.958Z"
   },
   {
    "duration": 12,
    "start_time": "2023-02-17T12:33:16.141Z"
   },
   {
    "duration": 13,
    "start_time": "2023-02-17T12:33:16.154Z"
   },
   {
    "duration": 28,
    "start_time": "2023-02-17T12:33:16.168Z"
   },
   {
    "duration": 116,
    "start_time": "2023-02-17T12:33:16.199Z"
   },
   {
    "duration": 0,
    "start_time": "2023-02-17T12:33:16.317Z"
   },
   {
    "duration": 32,
    "start_time": "2023-02-17T12:40:59.055Z"
   },
   {
    "duration": 1078,
    "start_time": "2023-02-17T12:43:13.705Z"
   },
   {
    "duration": 87,
    "start_time": "2023-02-17T12:43:14.785Z"
   },
   {
    "duration": 9,
    "start_time": "2023-02-17T12:43:14.873Z"
   },
   {
    "duration": 19,
    "start_time": "2023-02-17T12:43:14.884Z"
   },
   {
    "duration": 11,
    "start_time": "2023-02-17T12:43:14.905Z"
   },
   {
    "duration": 38,
    "start_time": "2023-02-17T12:43:14.918Z"
   },
   {
    "duration": 22,
    "start_time": "2023-02-17T12:43:14.957Z"
   },
   {
    "duration": 14,
    "start_time": "2023-02-17T12:43:14.981Z"
   },
   {
    "duration": 30,
    "start_time": "2023-02-17T12:43:14.996Z"
   },
   {
    "duration": 31,
    "start_time": "2023-02-17T12:43:15.029Z"
   },
   {
    "duration": 36,
    "start_time": "2023-02-17T12:43:15.061Z"
   },
   {
    "duration": 12,
    "start_time": "2023-02-17T12:43:15.099Z"
   },
   {
    "duration": 17,
    "start_time": "2023-02-17T12:43:15.112Z"
   },
   {
    "duration": 15,
    "start_time": "2023-02-17T12:43:15.131Z"
   },
   {
    "duration": 24,
    "start_time": "2023-02-17T12:43:15.147Z"
   },
   {
    "duration": 22,
    "start_time": "2023-02-17T12:43:15.173Z"
   },
   {
    "duration": 9,
    "start_time": "2023-02-17T12:43:15.197Z"
   },
   {
    "duration": 329,
    "start_time": "2023-02-17T12:43:15.208Z"
   },
   {
    "duration": 305,
    "start_time": "2023-02-17T12:43:15.539Z"
   },
   {
    "duration": 209,
    "start_time": "2023-02-17T12:43:15.846Z"
   },
   {
    "duration": 358,
    "start_time": "2023-02-17T12:43:16.056Z"
   },
   {
    "duration": 235,
    "start_time": "2023-02-17T12:43:16.415Z"
   },
   {
    "duration": 344,
    "start_time": "2023-02-17T12:43:16.651Z"
   },
   {
    "duration": 11,
    "start_time": "2023-02-17T12:43:16.997Z"
   },
   {
    "duration": 143,
    "start_time": "2023-02-17T12:43:17.010Z"
   },
   {
    "duration": 5,
    "start_time": "2023-02-17T12:43:17.154Z"
   },
   {
    "duration": 155,
    "start_time": "2023-02-17T12:43:17.160Z"
   },
   {
    "duration": 7,
    "start_time": "2023-02-17T12:43:17.318Z"
   },
   {
    "duration": 10,
    "start_time": "2023-02-17T12:43:17.326Z"
   },
   {
    "duration": 161,
    "start_time": "2023-02-17T12:43:17.338Z"
   },
   {
    "duration": 8,
    "start_time": "2023-02-17T12:43:17.500Z"
   },
   {
    "duration": 185,
    "start_time": "2023-02-17T12:43:17.510Z"
   },
   {
    "duration": 12,
    "start_time": "2023-02-17T12:43:17.697Z"
   },
   {
    "duration": 16,
    "start_time": "2023-02-17T12:43:17.710Z"
   },
   {
    "duration": 8,
    "start_time": "2023-02-17T12:43:17.727Z"
   },
   {
    "duration": 34,
    "start_time": "2023-02-17T12:43:17.737Z"
   },
   {
    "duration": 34,
    "start_time": "2023-02-17T12:43:17.772Z"
   },
   {
    "duration": 14,
    "start_time": "2023-02-17T12:47:01.354Z"
   },
   {
    "duration": 9,
    "start_time": "2023-02-17T12:49:12.687Z"
   },
   {
    "duration": 7,
    "start_time": "2023-02-17T13:08:21.310Z"
   },
   {
    "duration": 110,
    "start_time": "2023-02-17T13:08:34.084Z"
   },
   {
    "duration": 7,
    "start_time": "2023-02-17T13:08:52.000Z"
   },
   {
    "duration": 12,
    "start_time": "2023-02-17T13:13:44.951Z"
   },
   {
    "duration": 15,
    "start_time": "2023-02-17T13:13:56.593Z"
   },
   {
    "duration": 13,
    "start_time": "2023-02-17T13:15:31.818Z"
   },
   {
    "duration": 17,
    "start_time": "2023-02-17T13:26:58.355Z"
   },
   {
    "duration": 15,
    "start_time": "2023-02-17T13:27:30.621Z"
   },
   {
    "duration": 16,
    "start_time": "2023-02-17T13:29:49.147Z"
   },
   {
    "duration": 14,
    "start_time": "2023-02-17T13:30:41.824Z"
   },
   {
    "duration": 13,
    "start_time": "2023-02-17T13:31:02.898Z"
   },
   {
    "duration": 16,
    "start_time": "2023-02-17T13:32:01.279Z"
   },
   {
    "duration": 1102,
    "start_time": "2023-02-17T13:33:34.367Z"
   },
   {
    "duration": 92,
    "start_time": "2023-02-17T13:33:35.472Z"
   },
   {
    "duration": 10,
    "start_time": "2023-02-17T13:33:35.566Z"
   },
   {
    "duration": 19,
    "start_time": "2023-02-17T13:33:35.578Z"
   },
   {
    "duration": 30,
    "start_time": "2023-02-17T13:33:35.598Z"
   },
   {
    "duration": 51,
    "start_time": "2023-02-17T13:33:35.629Z"
   },
   {
    "duration": 22,
    "start_time": "2023-02-17T13:33:35.682Z"
   },
   {
    "duration": 7,
    "start_time": "2023-02-17T13:33:35.706Z"
   },
   {
    "duration": 9,
    "start_time": "2023-02-17T13:33:35.715Z"
   },
   {
    "duration": 9,
    "start_time": "2023-02-17T13:33:35.727Z"
   },
   {
    "duration": 25,
    "start_time": "2023-02-17T13:33:35.738Z"
   },
   {
    "duration": 13,
    "start_time": "2023-02-17T13:33:35.765Z"
   },
   {
    "duration": 20,
    "start_time": "2023-02-17T13:33:35.779Z"
   },
   {
    "duration": 10,
    "start_time": "2023-02-17T13:33:35.801Z"
   },
   {
    "duration": 17,
    "start_time": "2023-02-17T13:33:35.813Z"
   },
   {
    "duration": 18,
    "start_time": "2023-02-17T13:33:35.832Z"
   },
   {
    "duration": 8,
    "start_time": "2023-02-17T13:33:35.852Z"
   },
   {
    "duration": 36,
    "start_time": "2023-02-17T13:33:35.861Z"
   },
   {
    "duration": 306,
    "start_time": "2023-02-17T13:33:35.899Z"
   },
   {
    "duration": 307,
    "start_time": "2023-02-17T13:33:36.207Z"
   },
   {
    "duration": 216,
    "start_time": "2023-02-17T13:33:36.517Z"
   },
   {
    "duration": 303,
    "start_time": "2023-02-17T13:33:36.735Z"
   },
   {
    "duration": 228,
    "start_time": "2023-02-17T13:33:37.040Z"
   },
   {
    "duration": 330,
    "start_time": "2023-02-17T13:33:37.270Z"
   },
   {
    "duration": 14,
    "start_time": "2023-02-17T13:33:37.603Z"
   },
   {
    "duration": 180,
    "start_time": "2023-02-17T13:33:37.619Z"
   },
   {
    "duration": 5,
    "start_time": "2023-02-17T13:33:37.801Z"
   },
   {
    "duration": 164,
    "start_time": "2023-02-17T13:33:37.811Z"
   },
   {
    "duration": 7,
    "start_time": "2023-02-17T13:33:37.976Z"
   },
   {
    "duration": 11,
    "start_time": "2023-02-17T13:33:37.985Z"
   },
   {
    "duration": 155,
    "start_time": "2023-02-17T13:33:37.998Z"
   },
   {
    "duration": 8,
    "start_time": "2023-02-17T13:33:38.155Z"
   },
   {
    "duration": 183,
    "start_time": "2023-02-17T13:33:38.165Z"
   },
   {
    "duration": 12,
    "start_time": "2023-02-17T13:33:38.349Z"
   },
   {
    "duration": 20,
    "start_time": "2023-02-17T13:33:38.362Z"
   },
   {
    "duration": 17,
    "start_time": "2023-02-17T13:33:38.383Z"
   },
   {
    "duration": 33,
    "start_time": "2023-02-17T13:33:38.402Z"
   },
   {
    "duration": 14,
    "start_time": "2023-02-17T13:33:38.437Z"
   },
   {
    "duration": 101,
    "start_time": "2023-02-17T13:47:10.329Z"
   },
   {
    "duration": 16,
    "start_time": "2023-02-17T13:47:31.021Z"
   },
   {
    "duration": 13,
    "start_time": "2023-02-17T13:50:53.316Z"
   },
   {
    "duration": 12,
    "start_time": "2023-02-17T13:51:22.213Z"
   },
   {
    "duration": 8,
    "start_time": "2023-02-17T13:52:18.371Z"
   },
   {
    "duration": 17,
    "start_time": "2023-02-17T13:52:31.073Z"
   },
   {
    "duration": 145,
    "start_time": "2023-02-17T13:53:15.392Z"
   },
   {
    "duration": 69,
    "start_time": "2023-02-17T13:57:06.583Z"
   },
   {
    "duration": 216,
    "start_time": "2023-02-17T13:57:12.568Z"
   },
   {
    "duration": 138,
    "start_time": "2023-02-17T13:57:35.361Z"
   },
   {
    "duration": 1197,
    "start_time": "2023-02-17T14:04:59.887Z"
   },
   {
    "duration": 91,
    "start_time": "2023-02-17T14:05:01.086Z"
   },
   {
    "duration": 9,
    "start_time": "2023-02-17T14:05:01.179Z"
   },
   {
    "duration": 33,
    "start_time": "2023-02-17T14:05:01.190Z"
   },
   {
    "duration": 30,
    "start_time": "2023-02-17T14:05:01.225Z"
   },
   {
    "duration": 67,
    "start_time": "2023-02-17T14:05:01.257Z"
   },
   {
    "duration": 21,
    "start_time": "2023-02-17T14:05:01.325Z"
   },
   {
    "duration": 33,
    "start_time": "2023-02-17T14:05:01.348Z"
   },
   {
    "duration": 24,
    "start_time": "2023-02-17T14:05:01.383Z"
   },
   {
    "duration": 34,
    "start_time": "2023-02-17T14:05:01.410Z"
   },
   {
    "duration": 56,
    "start_time": "2023-02-17T14:05:01.446Z"
   },
   {
    "duration": 15,
    "start_time": "2023-02-17T14:05:01.504Z"
   },
   {
    "duration": 27,
    "start_time": "2023-02-17T14:05:01.520Z"
   },
   {
    "duration": 44,
    "start_time": "2023-02-17T14:05:01.549Z"
   },
   {
    "duration": 34,
    "start_time": "2023-02-17T14:05:01.594Z"
   },
   {
    "duration": 34,
    "start_time": "2023-02-17T14:05:01.629Z"
   },
   {
    "duration": 22,
    "start_time": "2023-02-17T14:05:01.665Z"
   },
   {
    "duration": 26,
    "start_time": "2023-02-17T14:05:01.689Z"
   },
   {
    "duration": 335,
    "start_time": "2023-02-17T14:05:01.716Z"
   },
   {
    "duration": 313,
    "start_time": "2023-02-17T14:05:02.053Z"
   },
   {
    "duration": 217,
    "start_time": "2023-02-17T14:05:02.368Z"
   },
   {
    "duration": 341,
    "start_time": "2023-02-17T14:05:02.586Z"
   },
   {
    "duration": 253,
    "start_time": "2023-02-17T14:05:02.928Z"
   },
   {
    "duration": 319,
    "start_time": "2023-02-17T14:05:03.183Z"
   },
   {
    "duration": 12,
    "start_time": "2023-02-17T14:05:03.503Z"
   },
   {
    "duration": 167,
    "start_time": "2023-02-17T14:05:03.517Z"
   },
   {
    "duration": 10,
    "start_time": "2023-02-17T14:05:03.686Z"
   },
   {
    "duration": 156,
    "start_time": "2023-02-17T14:05:03.699Z"
   },
   {
    "duration": 7,
    "start_time": "2023-02-17T14:05:03.857Z"
   },
   {
    "duration": 146,
    "start_time": "2023-02-17T14:05:03.866Z"
   },
   {
    "duration": 5,
    "start_time": "2023-02-17T14:05:04.013Z"
   },
   {
    "duration": 174,
    "start_time": "2023-02-17T14:05:04.019Z"
   },
   {
    "duration": 10,
    "start_time": "2023-02-17T14:05:04.196Z"
   },
   {
    "duration": 277,
    "start_time": "2023-02-17T14:05:04.207Z"
   },
   {
    "duration": 19,
    "start_time": "2023-02-17T14:05:04.486Z"
   },
   {
    "duration": 15,
    "start_time": "2023-02-17T14:05:04.507Z"
   },
   {
    "duration": 10,
    "start_time": "2023-02-17T14:05:04.524Z"
   },
   {
    "duration": 61,
    "start_time": "2023-02-17T14:05:04.536Z"
   },
   {
    "duration": 18,
    "start_time": "2023-02-17T14:05:04.599Z"
   }
  ],
  "kernelspec": {
   "display_name": "Python 3 (ipykernel)",
   "language": "python",
   "name": "python3"
  },
  "language_info": {
   "codemirror_mode": {
    "name": "ipython",
    "version": 3
   },
   "file_extension": ".py",
   "mimetype": "text/x-python",
   "name": "python",
   "nbconvert_exporter": "python",
   "pygments_lexer": "ipython3",
   "version": "3.9.16"
  },
  "toc": {
   "base_numbering": 1,
   "nav_menu": {},
   "number_sections": true,
   "sideBar": true,
   "skip_h1_title": true,
   "title_cell": "Table of Contents",
   "title_sidebar": "Contents",
   "toc_cell": false,
   "toc_position": {},
   "toc_section_display": true,
   "toc_window_display": true
  }
 },
 "nbformat": 4,
 "nbformat_minor": 2
}
